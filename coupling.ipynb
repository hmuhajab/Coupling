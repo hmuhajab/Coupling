{
 "cells": [
  {
   "cell_type": "code",
   "execution_count": 2,
   "id": "e344e5e0",
   "metadata": {},
   "outputs": [],
   "source": [
    "import xml.etree.ElementTree as ET\n",
    "from io import StringIO\n",
    "from lxml import etree\n",
    "import numpy as np\n",
    "import pandas as pd\n",
    "import re"
   ]
  },
  {
   "cell_type": "code",
   "execution_count": 3,
   "id": "6286c458",
   "metadata": {},
   "outputs": [],
   "source": [
    "pd.options.display.max_colwidth = 100"
   ]
  },
  {
   "cell_type": "code",
   "execution_count": 4,
   "id": "f0206a89",
   "metadata": {},
   "outputs": [],
   "source": [
    "tree = ET.parse('admingeo.owl')\n",
    "root = tree.getroot()"
   ]
  },
  {
   "cell_type": "code",
   "execution_count": 5,
   "id": "acd3589b",
   "metadata": {},
   "outputs": [],
   "source": [
    "# find the namespace of owl file, The attrib attribute of an ElementTree element.Comment=\n",
    "# The namespace whose name is http://www.w3.org/XML/1998/namespace is bound by definition to the prefix xml: \n",
    "\n",
    "base_ns = root.attrib['{http://www.w3.org/XML/1998/namespace}base']"
   ]
  },
  {
   "cell_type": "code",
   "execution_count": 6,
   "id": "4ccb2641",
   "metadata": {},
   "outputs": [
    {
     "name": "stdout",
     "output_type": "stream",
     "text": [
      "The base namespace is http://data.ordnancesurvey.co.uk/ontology/admingeo/\n"
     ]
    }
   ],
   "source": [
    "print(f\"The base namespace is {base_ns}\")"
   ]
  },
  {
   "cell_type": "code",
   "execution_count": 7,
   "id": "a7a1213a",
   "metadata": {},
   "outputs": [],
   "source": [
    "# get all the namespace defined in the owl file\n",
    "\n",
    "my_namespaces = dict([\n",
    "     node for _, node in ET.iterparse(\"admingeo.owl\", events=['start-ns'])])"
   ]
  },
  {
   "cell_type": "code",
   "execution_count": 8,
   "id": "4ecb2a5f",
   "metadata": {},
   "outputs": [
    {
     "data": {
      "text/plain": [
       "{'': 'http://data.ordnancesurvey.co.uk/ontology/admingeo/',\n",
       " 'dc': 'http://purl.org/dc/elements/1.1/',\n",
       " 'rdf-schema': 'http://data.ordnancesurvey.co.uk/ontology/admingeo/http://www.w3.org/2000/01/rdf-schema#',\n",
       " 'spatialrelations': 'http://data.ordnancesurvey.co.uk/ontology/spatialrelations/',\n",
       " 'geometry': 'http://data.ordnancesurvey.co.uk/ontology/geometry/',\n",
       " 'rdfs': 'http://www.w3.org/2000/01/rdf-schema#',\n",
       " 'owl2xml': 'http://www.w3.org/2006/12/owl2-xml#',\n",
       " 'dct': 'http://purl.org/dc/terms/',\n",
       " 'owl': 'http://www.w3.org/2002/07/owl#',\n",
       " 'xsd': 'http://www.w3.org/2001/XMLSchema#',\n",
       " 'rdf': 'http://www.w3.org/1999/02/22-rdf-syntax-ns#',\n",
       " 'core': 'http://data.ordnancesurvey.co.uk/ontology/admingeo/http://www.w3.org/2004/02/skos/core#',\n",
       " 'skos': 'http://www.w3.org/2004/02/skos/core#',\n",
       " 'cc': 'http://creativecommons.org/ns#'}"
      ]
     },
     "execution_count": 8,
     "metadata": {},
     "output_type": "execute_result"
    }
   ],
   "source": [
    "my_namespaces"
   ]
  },
  {
   "cell_type": "code",
   "execution_count": 9,
   "id": "bcf61ace",
   "metadata": {},
   "outputs": [],
   "source": [
    "tree = etree.parse('admingeo.owl')"
   ]
  },
  {
   "cell_type": "code",
   "execution_count": 10,
   "id": "1d21ed6a",
   "metadata": {},
   "outputs": [
    {
     "data": {
      "text/plain": [
       "<lxml.etree._ElementTree at 0x7fad215f68c0>"
      ]
     },
     "execution_count": 10,
     "metadata": {},
     "output_type": "execute_result"
    }
   ],
   "source": [
    "tree"
   ]
  },
  {
   "cell_type": "code",
   "execution_count": 11,
   "id": "ec7e0b7d",
   "metadata": {},
   "outputs": [],
   "source": [
    "my_namespaces['admingeo'] = my_namespaces.pop('')"
   ]
  },
  {
   "cell_type": "code",
   "execution_count": 12,
   "id": "2fa3ae8e",
   "metadata": {},
   "outputs": [
    {
     "data": {
      "text/plain": [
       "{'dc': 'http://purl.org/dc/elements/1.1/',\n",
       " 'rdf-schema': 'http://data.ordnancesurvey.co.uk/ontology/admingeo/http://www.w3.org/2000/01/rdf-schema#',\n",
       " 'spatialrelations': 'http://data.ordnancesurvey.co.uk/ontology/spatialrelations/',\n",
       " 'geometry': 'http://data.ordnancesurvey.co.uk/ontology/geometry/',\n",
       " 'rdfs': 'http://www.w3.org/2000/01/rdf-schema#',\n",
       " 'owl2xml': 'http://www.w3.org/2006/12/owl2-xml#',\n",
       " 'dct': 'http://purl.org/dc/terms/',\n",
       " 'owl': 'http://www.w3.org/2002/07/owl#',\n",
       " 'xsd': 'http://www.w3.org/2001/XMLSchema#',\n",
       " 'rdf': 'http://www.w3.org/1999/02/22-rdf-syntax-ns#',\n",
       " 'core': 'http://data.ordnancesurvey.co.uk/ontology/admingeo/http://www.w3.org/2004/02/skos/core#',\n",
       " 'skos': 'http://www.w3.org/2004/02/skos/core#',\n",
       " 'cc': 'http://creativecommons.org/ns#',\n",
       " 'admingeo': 'http://data.ordnancesurvey.co.uk/ontology/admingeo/'}"
      ]
     },
     "execution_count": 12,
     "metadata": {},
     "output_type": "execute_result"
    }
   ],
   "source": [
    "my_namespaces"
   ]
  },
  {
   "cell_type": "code",
   "execution_count": 13,
   "id": "77fa36c2",
   "metadata": {},
   "outputs": [],
   "source": [
    "#Xpath string to get all classes referenced on classes definitions.\n",
    "\n",
    "paths_from_classes = \"\"\"./owl:Class//owl:disjointWith[@rdf:resource]|\n",
    "./owl:Class//owl:complementOf/owl:Class[@rdf:about]|\n",
    "./owl:Class//owl:unionOf/owl:Class[@rdf:about]|\n",
    "./owl:Class//owl:unionOf/rdf:Description[@rdf:about]|\n",
    "./owl:Class//owl:intersectionOf/owl:Class[@rdf:about]|\n",
    "./owl:Class//owl:intersectionOf/rdf:Description[@rdf:about]|\n",
    "./owl:Class//rdfs:subClassOf/owl:Restriction/owl:allValuesFrom[@rdf:resource]|\n",
    "./owl:Class//rdfs:subClassOf/owl:Restriction/owl:someValuesFrom[@rdf:resource]|\n",
    "./owl:Class//rdfs:subClassOf/owl:Restriction/owl:onClass[@rdf:resource]|\n",
    "./owl:Class/rdfs:subClassOf[@rdf:resource]\"\"\""
   ]
  },
  {
   "cell_type": "code",
   "execution_count": 14,
   "id": "907089ab",
   "metadata": {},
   "outputs": [],
   "source": [
    "#Xpath string to get all classes referenced on properties definitions.\n",
    "\n",
    "paths_from_properties = \"\"\"./owl:ObjectProperty/rdfs:domain/owl:Class//owl:disjointWith[@rdf:resource]|\n",
    "./owl:ObjectProperty/rdfs:domain/owl:Class//owl:complementOf/owl:Class[@rdf:about]|\n",
    "./owl:ObjectProperty/rdfs:domain/owl:Class//owl:unionOf/owl:Class[@rdf:about]|\n",
    "./owl:ObjectProperty/rdfs:domain/owl:Class//owl:unionOf/rdf:Description[@rdf:about]|\n",
    "./owl:ObjectProperty/rdfs:domain/owl:Class//owl:intersectionOf/owl:Class[@rdf:about]|\n",
    "./owl:ObjectProperty/rdfs:domain/owl:Class//owl:intersectionOf/rdf:Description[@rdf:about]|\n",
    "./owl:ObjectProperty/rdfs:domain/owl:Class//rdfs:subClassOf/owl:Restriction/owl:allValuesFrom[@rdf:resource]|\n",
    "./owl:ObjectProperty/rdfs:domain/owl:Class//rdfs:subClassOf/owl:Restriction/owl:someValuesFrom[@rdf:resource]|\n",
    "./owl:ObjectProperty/rdfs:domain/owl:Class//rdfs:subClassOf/owl:Restriction/owl:onClass[@rdf:resource]|\n",
    "./owl:ObjectProperty/rdfs:domain/owl:Class//rdfs:subClassOf[@rdf:resource]|\n",
    "./owl:ObjectProperty/rdfs:domain/owl:Class[@rdf:about]|\n",
    "./owl:ObjectProperty/rdfs:range/owl:Class//owl:disjointWith[@rdf:resource]|\n",
    "./owl:ObjectProperty/rdfs:range/owl:Class//owl:complementOf/owl:Class[@rdf:about]|\n",
    "./owl:ObjectProperty/rdfs:range/owl:Class//owl:unionOf/owl:Class[@rdf:about]|\n",
    "./owl:ObjectProperty/rdfs:range/owl:Class//owl:unionOf/rdf:Description[@rdf:about]|\n",
    "./owl:ObjectProperty/rdfs:range/owl:Class//owl:intersectionOf/owl:Class[@rdf:about]|\n",
    "./owl:ObjectProperty/rdfs:range/owl:Class//owl:intersectionOf/rdf:Description[@rdf:about]|\n",
    "./owl:ObjectProperty/rdfs:range/owl:Class//rdfs:subClassOf/owl:Restriction/owl:allValuesFrom[@rdf:resource]|\n",
    "./owl:ObjectProperty/rdfs:range/owl:Class//rdfs:subClassOf/owl:Restriction/owl:someValuesFrom[@rdf:resource]|\n",
    "./owl:ObjectProperty/rdfs:range/owl:Class//rdfs:subClassOf/owl:Restriction/owl:onClass[@rdf:resource]|\n",
    "./owl:ObjectProperty/rdfs:range/owl:Class//rdfs:subClassOf[@rdf:resource]|\n",
    "./owl:ObjectProperty/rdfs:range/owl:Class[@rdf:about]\"\"\""
   ]
  },
  {
   "cell_type": "code",
   "execution_count": 15,
   "id": "64f65565",
   "metadata": {},
   "outputs": [],
   "source": [
    "paths = paths_from_classes + \"|\\n\" + paths_from_properties"
   ]
  },
  {
   "cell_type": "code",
   "execution_count": 16,
   "id": "4f1caf92",
   "metadata": {},
   "outputs": [
    {
     "name": "stdout",
     "output_type": "stream",
     "text": [
      "./owl:Class//owl:disjointWith[@rdf:resource]|\n",
      "./owl:Class//owl:complementOf/owl:Class[@rdf:about]|\n",
      "./owl:Class//owl:unionOf/owl:Class[@rdf:about]|\n",
      "./owl:Class//owl:unionOf/rdf:Description[@rdf:about]|\n",
      "./owl:Class//owl:intersectionOf/owl:Class[@rdf:about]|\n",
      "./owl:Class//owl:intersectionOf/rdf:Description[@rdf:about]|\n",
      "./owl:Class//rdfs:subClassOf/owl:Restriction/owl:allValuesFrom[@rdf:resource]|\n",
      "./owl:Class//rdfs:subClassOf/owl:Restriction/owl:someValuesFrom[@rdf:resource]|\n",
      "./owl:Class//rdfs:subClassOf/owl:Restriction/owl:onClass[@rdf:resource]|\n",
      "./owl:Class/rdfs:subClassOf[@rdf:resource]|\n",
      "./owl:ObjectProperty/rdfs:domain/owl:Class//owl:disjointWith[@rdf:resource]|\n",
      "./owl:ObjectProperty/rdfs:domain/owl:Class//owl:complementOf/owl:Class[@rdf:about]|\n",
      "./owl:ObjectProperty/rdfs:domain/owl:Class//owl:unionOf/owl:Class[@rdf:about]|\n",
      "./owl:ObjectProperty/rdfs:domain/owl:Class//owl:unionOf/rdf:Description[@rdf:about]|\n",
      "./owl:ObjectProperty/rdfs:domain/owl:Class//owl:intersectionOf/owl:Class[@rdf:about]|\n",
      "./owl:ObjectProperty/rdfs:domain/owl:Class//owl:intersectionOf/rdf:Description[@rdf:about]|\n",
      "./owl:ObjectProperty/rdfs:domain/owl:Class//rdfs:subClassOf/owl:Restriction/owl:allValuesFrom[@rdf:resource]|\n",
      "./owl:ObjectProperty/rdfs:domain/owl:Class//rdfs:subClassOf/owl:Restriction/owl:someValuesFrom[@rdf:resource]|\n",
      "./owl:ObjectProperty/rdfs:domain/owl:Class//rdfs:subClassOf/owl:Restriction/owl:onClass[@rdf:resource]|\n",
      "./owl:ObjectProperty/rdfs:domain/owl:Class//rdfs:subClassOf[@rdf:resource]|\n",
      "./owl:ObjectProperty/rdfs:domain/owl:Class[@rdf:about]|\n",
      "./owl:ObjectProperty/rdfs:range/owl:Class//owl:disjointWith[@rdf:resource]|\n",
      "./owl:ObjectProperty/rdfs:range/owl:Class//owl:complementOf/owl:Class[@rdf:about]|\n",
      "./owl:ObjectProperty/rdfs:range/owl:Class//owl:unionOf/owl:Class[@rdf:about]|\n",
      "./owl:ObjectProperty/rdfs:range/owl:Class//owl:unionOf/rdf:Description[@rdf:about]|\n",
      "./owl:ObjectProperty/rdfs:range/owl:Class//owl:intersectionOf/owl:Class[@rdf:about]|\n",
      "./owl:ObjectProperty/rdfs:range/owl:Class//owl:intersectionOf/rdf:Description[@rdf:about]|\n",
      "./owl:ObjectProperty/rdfs:range/owl:Class//rdfs:subClassOf/owl:Restriction/owl:allValuesFrom[@rdf:resource]|\n",
      "./owl:ObjectProperty/rdfs:range/owl:Class//rdfs:subClassOf/owl:Restriction/owl:someValuesFrom[@rdf:resource]|\n",
      "./owl:ObjectProperty/rdfs:range/owl:Class//rdfs:subClassOf/owl:Restriction/owl:onClass[@rdf:resource]|\n",
      "./owl:ObjectProperty/rdfs:range/owl:Class//rdfs:subClassOf[@rdf:resource]|\n",
      "./owl:ObjectProperty/rdfs:range/owl:Class[@rdf:about]\n"
     ]
    }
   ],
   "source": [
    "print(paths)"
   ]
  },
  {
   "cell_type": "code",
   "execution_count": 17,
   "id": "c541963d",
   "metadata": {},
   "outputs": [],
   "source": [
    "#Get the elements (nodes) of the xml tree that match our XPath string.\n",
    "classes = tree.xpath(paths, namespaces = my_namespaces)"
   ]
  },
  {
   "cell_type": "code",
   "execution_count": 18,
   "id": "89a1ba17",
   "metadata": {},
   "outputs": [
    {
     "name": "stdout",
     "output_type": "stream",
     "text": [
      "We found 94 classes.\n"
     ]
    }
   ],
   "source": [
    "print(f\"We found {len(classes)} classes.\")"
   ]
  },
  {
   "cell_type": "code",
   "execution_count": 19,
   "id": "be9214ca",
   "metadata": {},
   "outputs": [],
   "source": [
    "# get the rdf:resource (or rdf:about) attribute of an element of the XML tree representing an ontology class.\n",
    "def rdf_resource_or_about(element):\n",
    "#get all atttribute of the xml nodes, element is a node \n",
    "    d = dict(element.attrib);\n",
    "    if '{http://www.w3.org/1999/02/22-rdf-syntax-ns#}resource' in d:        \n",
    "        return element.attrib['{http://www.w3.org/1999/02/22-rdf-syntax-ns#}resource']\n",
    "    elif '{http://www.w3.org/1999/02/22-rdf-syntax-ns#}about' in d:        \n",
    "        return element.attrib['{http://www.w3.org/1999/02/22-rdf-syntax-ns#}about']"
   ]
  },
  {
   "cell_type": "code",
   "execution_count": 20,
   "id": "92382e68",
   "metadata": {},
   "outputs": [],
   "source": [
    "# get the rdf:resource (or rdf:about) attribute of all elements of an array.\n",
    "def classes_uri(elements):\n",
    "    return list(map(lambda a : rdf_resource_or_about(a), elements))"
   ]
  },
  {
   "cell_type": "code",
   "execution_count": 21,
   "id": "8c5dd292",
   "metadata": {},
   "outputs": [],
   "source": [
    "# get the namespace of an URI string.\n",
    "# ^  matches the start of the string. \n",
    "#.* match any character\n",
    "# [/#] matches either the character / or # at the end of the string.\n",
    "def get_namespace(string):\n",
    "    return re.search(\"^.*[/#]\", string).group()"
   ]
  },
  {
   "cell_type": "code",
   "execution_count": 22,
   "id": "a5910367",
   "metadata": {},
   "outputs": [
    {
     "data": {
      "text/plain": [
       "['http://data.ordnancesurvey.co.uk/ontology/admingeo/GreaterLondonAuthorityAssemblyConstituency',\n",
       " 'http://data.ordnancesurvey.co.uk/ontology/admingeo/ScottishParliamentConstituency',\n",
       " 'http://data.ordnancesurvey.co.uk/ontology/admingeo/WelshAssemblyConstituency',\n",
       " 'http://data.ordnancesurvey.co.uk/ontology/admingeo/GreaterLondonAuthority',\n",
       " 'http://data.ordnancesurvey.co.uk/ontology/admingeo/ScottishParliamentElectoralRegion',\n",
       " 'http://data.ordnancesurvey.co.uk/ontology/admingeo/WelshAssemblyElectoralRegion',\n",
       " 'http://data.ordnancesurvey.co.uk/ontology/admingeo/County',\n",
       " 'http://data.ordnancesurvey.co.uk/ontology/admingeo/GreaterLondonAuthority',\n",
       " 'http://data.ordnancesurvey.co.uk/ontology/admingeo/District',\n",
       " 'http://data.ordnancesurvey.co.uk/ontology/admingeo/LondonBorough',\n",
       " 'http://data.ordnancesurvey.co.uk/ontology/admingeo/MetropolitanDistrict',\n",
       " 'http://data.ordnancesurvey.co.uk/ontology/admingeo/UnitaryAuthority',\n",
       " 'http://data.ordnancesurvey.co.uk/ontology/admingeo/County',\n",
       " 'http://data.ordnancesurvey.co.uk/ontology/admingeo/GreaterLondonAuthority',\n",
       " 'http://data.ordnancesurvey.co.uk/ontology/admingeo/District',\n",
       " 'http://data.ordnancesurvey.co.uk/ontology/admingeo/LondonBorough',\n",
       " 'http://data.ordnancesurvey.co.uk/ontology/admingeo/MetropolitanDistrict',\n",
       " 'http://data.ordnancesurvey.co.uk/ontology/admingeo/UnitaryAuthority',\n",
       " 'http://data.ordnancesurvey.co.uk/ontology/admingeo/CivilParish',\n",
       " 'http://data.ordnancesurvey.co.uk/ontology/admingeo/Community',\n",
       " 'http://data.ordnancesurvey.co.uk/ontology/admingeo/UnitaryAuthorityElectoralDivision',\n",
       " 'http://data.ordnancesurvey.co.uk/ontology/admingeo/Ward',\n",
       " 'http://data.ordnancesurvey.co.uk/ontology/admingeo/GreaterLondonAuthority',\n",
       " 'http://data.ordnancesurvey.co.uk/ontology/admingeo/ScottishParliamentElectoralRegion',\n",
       " 'http://data.ordnancesurvey.co.uk/ontology/admingeo/WelshAssemblyElectoralRegion',\n",
       " 'http://data.ordnancesurvey.co.uk/ontology/admingeo/GreaterLondonAuthorityAssemblyConstituency',\n",
       " 'http://data.ordnancesurvey.co.uk/ontology/admingeo/ScottishParliamentConstituency',\n",
       " 'http://data.ordnancesurvey.co.uk/ontology/admingeo/WelshAssemblyConstituency',\n",
       " 'http://data.ordnancesurvey.co.uk/ontology/admingeo/CivilParish',\n",
       " 'http://data.ordnancesurvey.co.uk/ontology/admingeo/Community',\n",
       " 'http://data.ordnancesurvey.co.uk/ontology/admingeo/UnitaryAuthorityElectoralDivision',\n",
       " 'http://data.ordnancesurvey.co.uk/ontology/admingeo/Ward',\n",
       " 'http://www.w3.org/2002/07/owl#Thing',\n",
       " 'http://data.ordnancesurvey.co.uk/ontology/geometry/AbstractGeometry',\n",
       " 'http://data.ordnancesurvey.co.uk/ontology/admingeo/EuropeanRegion',\n",
       " 'http://data.ordnancesurvey.co.uk/ontology/admingeo/CivilVotingArea',\n",
       " 'http://data.ordnancesurvey.co.uk/ontology/admingeo/CivilAdministrativeArea',\n",
       " 'http://data.ordnancesurvey.co.uk/ontology/admingeo/County',\n",
       " 'http://data.ordnancesurvey.co.uk/ontology/admingeo/District',\n",
       " 'http://data.ordnancesurvey.co.uk/ontology/admingeo/MetropolitanDistrict',\n",
       " 'http://data.ordnancesurvey.co.uk/ontology/admingeo/UnitaryAuthority',\n",
       " 'http://data.ordnancesurvey.co.uk/ontology/admingeo/EuropeanRegion',\n",
       " 'http://data.ordnancesurvey.co.uk/ontology/geometry/AbstractGeometry',\n",
       " 'http://data.ordnancesurvey.co.uk/ontology/admingeo/CivilAdministrativeArea',\n",
       " 'http://data.ordnancesurvey.co.uk/ontology/admingeo/UnitaryAuthority',\n",
       " 'http://data.ordnancesurvey.co.uk/ontology/admingeo/CivilVotingArea',\n",
       " 'http://data.ordnancesurvey.co.uk/ontology/admingeo/CivilAdministrativeArea',\n",
       " 'http://data.ordnancesurvey.co.uk/ontology/admingeo/District',\n",
       " 'http://data.ordnancesurvey.co.uk/ontology/admingeo/CivilVotingArea',\n",
       " 'http://data.ordnancesurvey.co.uk/ontology/admingeo/County',\n",
       " 'http://data.ordnancesurvey.co.uk/ontology/admingeo/CivilAdministrativeArea',\n",
       " 'http://data.ordnancesurvey.co.uk/ontology/admingeo/DistrictWard',\n",
       " 'http://data.ordnancesurvey.co.uk/ontology/admingeo/County',\n",
       " 'http://data.ordnancesurvey.co.uk/ontology/admingeo/Ward',\n",
       " 'http://data.ordnancesurvey.co.uk/ontology/admingeo/County',\n",
       " 'http://data.ordnancesurvey.co.uk/ontology/admingeo/District',\n",
       " 'http://www.w3.org/2002/07/owl#Thing',\n",
       " 'http://data.ordnancesurvey.co.uk/ontology/geometry/AbstractGeometry',\n",
       " 'http://data.ordnancesurvey.co.uk/ontology/admingeo/WestminsterConstituency',\n",
       " 'http://data.ordnancesurvey.co.uk/ontology/admingeo/CivilAdministrativeArea',\n",
       " 'http://data.ordnancesurvey.co.uk/ontology/admingeo/LondonBorough',\n",
       " 'http://data.ordnancesurvey.co.uk/ontology/admingeo/GreaterLondonAuthorityAssemblyConstituency',\n",
       " 'http://data.ordnancesurvey.co.uk/ontology/admingeo/Constituency',\n",
       " 'http://data.ordnancesurvey.co.uk/ontology/admingeo/GreaterLondonAuthority',\n",
       " 'http://data.ordnancesurvey.co.uk/ontology/admingeo/CivilAdministrativeArea',\n",
       " 'http://data.ordnancesurvey.co.uk/ontology/admingeo/LondonBoroughWard',\n",
       " 'http://data.ordnancesurvey.co.uk/ontology/admingeo/GreaterLondonAuthority',\n",
       " 'http://data.ordnancesurvey.co.uk/ontology/admingeo/Ward',\n",
       " 'http://data.ordnancesurvey.co.uk/ontology/admingeo/GreaterLondonAuthority',\n",
       " 'http://data.ordnancesurvey.co.uk/ontology/admingeo/LondonBorough',\n",
       " 'http://data.ordnancesurvey.co.uk/ontology/admingeo/CivilAdministrativeArea',\n",
       " 'http://data.ordnancesurvey.co.uk/ontology/admingeo/MetropolitanDistrictWard',\n",
       " 'http://data.ordnancesurvey.co.uk/ontology/admingeo/Ward',\n",
       " 'http://data.ordnancesurvey.co.uk/ontology/admingeo/MetropolitanDistrict',\n",
       " 'http://data.ordnancesurvey.co.uk/ontology/admingeo/Constituency',\n",
       " 'http://data.ordnancesurvey.co.uk/ontology/admingeo/ScottishParliamentElectoralRegion',\n",
       " 'http://data.ordnancesurvey.co.uk/ontology/admingeo/CivilVotingArea',\n",
       " 'http://data.ordnancesurvey.co.uk/ontology/admingeo/ScottishParliamentConstituency',\n",
       " 'http://data.ordnancesurvey.co.uk/ontology/admingeo/CivilAdministrativeArea',\n",
       " 'http://data.ordnancesurvey.co.uk/ontology/admingeo/UnitaryAuthorityElectoralDivision',\n",
       " 'http://data.ordnancesurvey.co.uk/ontology/admingeo/UnitaryAuthorityWard',\n",
       " 'http://data.ordnancesurvey.co.uk/ontology/admingeo/CivilVotingArea',\n",
       " 'http://data.ordnancesurvey.co.uk/ontology/admingeo/Ward',\n",
       " 'http://data.ordnancesurvey.co.uk/ontology/admingeo/UnitaryAuthority',\n",
       " 'http://data.ordnancesurvey.co.uk/ontology/admingeo/CivilVotingArea',\n",
       " 'http://data.ordnancesurvey.co.uk/ontology/admingeo/District',\n",
       " 'http://data.ordnancesurvey.co.uk/ontology/admingeo/LondonBorough',\n",
       " 'http://data.ordnancesurvey.co.uk/ontology/admingeo/MetropolitanDistrict',\n",
       " 'http://data.ordnancesurvey.co.uk/ontology/admingeo/UnitaryAuthority',\n",
       " 'http://data.ordnancesurvey.co.uk/ontology/admingeo/Constituency',\n",
       " 'http://data.ordnancesurvey.co.uk/ontology/admingeo/WelshAssemblyElectoralRegion',\n",
       " 'http://data.ordnancesurvey.co.uk/ontology/admingeo/CivilVotingArea',\n",
       " 'http://data.ordnancesurvey.co.uk/ontology/admingeo/WelshAssemblyConstituency',\n",
       " 'http://data.ordnancesurvey.co.uk/ontology/admingeo/Constituency']"
      ]
     },
     "execution_count": 22,
     "metadata": {},
     "output_type": "execute_result"
    }
   ],
   "source": [
    "classes_names = classes_uri(classes)\n",
    "classes_names"
   ]
  },
  {
   "cell_type": "code",
   "execution_count": 23,
   "id": "54eabe07",
   "metadata": {},
   "outputs": [
    {
     "data": {
      "text/html": [
       "<div>\n",
       "<style scoped>\n",
       "    .dataframe tbody tr th:only-of-type {\n",
       "        vertical-align: middle;\n",
       "    }\n",
       "\n",
       "    .dataframe tbody tr th {\n",
       "        vertical-align: top;\n",
       "    }\n",
       "\n",
       "    .dataframe thead th {\n",
       "        text-align: right;\n",
       "    }\n",
       "</style>\n",
       "<table border=\"1\" class=\"dataframe\">\n",
       "  <thead>\n",
       "    <tr style=\"text-align: right;\">\n",
       "      <th></th>\n",
       "      <th>class</th>\n",
       "      <th>namespace</th>\n",
       "    </tr>\n",
       "  </thead>\n",
       "  <tbody>\n",
       "    <tr>\n",
       "      <th>0</th>\n",
       "      <td>http://data.ordnancesurvey.co.uk/ontology/admingeo/GreaterLondonAuthorityAssemblyConstituency</td>\n",
       "      <td>http://data.ordnancesurvey.co.uk/ontology/admingeo/</td>\n",
       "    </tr>\n",
       "    <tr>\n",
       "      <th>1</th>\n",
       "      <td>http://data.ordnancesurvey.co.uk/ontology/admingeo/ScottishParliamentConstituency</td>\n",
       "      <td>http://data.ordnancesurvey.co.uk/ontology/admingeo/</td>\n",
       "    </tr>\n",
       "    <tr>\n",
       "      <th>2</th>\n",
       "      <td>http://data.ordnancesurvey.co.uk/ontology/admingeo/WelshAssemblyConstituency</td>\n",
       "      <td>http://data.ordnancesurvey.co.uk/ontology/admingeo/</td>\n",
       "    </tr>\n",
       "    <tr>\n",
       "      <th>3</th>\n",
       "      <td>http://data.ordnancesurvey.co.uk/ontology/admingeo/GreaterLondonAuthority</td>\n",
       "      <td>http://data.ordnancesurvey.co.uk/ontology/admingeo/</td>\n",
       "    </tr>\n",
       "    <tr>\n",
       "      <th>4</th>\n",
       "      <td>http://data.ordnancesurvey.co.uk/ontology/admingeo/ScottishParliamentElectoralRegion</td>\n",
       "      <td>http://data.ordnancesurvey.co.uk/ontology/admingeo/</td>\n",
       "    </tr>\n",
       "    <tr>\n",
       "      <th>...</th>\n",
       "      <td>...</td>\n",
       "      <td>...</td>\n",
       "    </tr>\n",
       "    <tr>\n",
       "      <th>89</th>\n",
       "      <td>http://data.ordnancesurvey.co.uk/ontology/admingeo/Constituency</td>\n",
       "      <td>http://data.ordnancesurvey.co.uk/ontology/admingeo/</td>\n",
       "    </tr>\n",
       "    <tr>\n",
       "      <th>90</th>\n",
       "      <td>http://data.ordnancesurvey.co.uk/ontology/admingeo/WelshAssemblyElectoralRegion</td>\n",
       "      <td>http://data.ordnancesurvey.co.uk/ontology/admingeo/</td>\n",
       "    </tr>\n",
       "    <tr>\n",
       "      <th>91</th>\n",
       "      <td>http://data.ordnancesurvey.co.uk/ontology/admingeo/CivilVotingArea</td>\n",
       "      <td>http://data.ordnancesurvey.co.uk/ontology/admingeo/</td>\n",
       "    </tr>\n",
       "    <tr>\n",
       "      <th>92</th>\n",
       "      <td>http://data.ordnancesurvey.co.uk/ontology/admingeo/WelshAssemblyConstituency</td>\n",
       "      <td>http://data.ordnancesurvey.co.uk/ontology/admingeo/</td>\n",
       "    </tr>\n",
       "    <tr>\n",
       "      <th>93</th>\n",
       "      <td>http://data.ordnancesurvey.co.uk/ontology/admingeo/Constituency</td>\n",
       "      <td>http://data.ordnancesurvey.co.uk/ontology/admingeo/</td>\n",
       "    </tr>\n",
       "  </tbody>\n",
       "</table>\n",
       "<p>94 rows × 2 columns</p>\n",
       "</div>"
      ],
      "text/plain": [
       "                                                                                            class  \\\n",
       "0   http://data.ordnancesurvey.co.uk/ontology/admingeo/GreaterLondonAuthorityAssemblyConstituency   \n",
       "1               http://data.ordnancesurvey.co.uk/ontology/admingeo/ScottishParliamentConstituency   \n",
       "2                    http://data.ordnancesurvey.co.uk/ontology/admingeo/WelshAssemblyConstituency   \n",
       "3                       http://data.ordnancesurvey.co.uk/ontology/admingeo/GreaterLondonAuthority   \n",
       "4            http://data.ordnancesurvey.co.uk/ontology/admingeo/ScottishParliamentElectoralRegion   \n",
       "..                                                                                            ...   \n",
       "89                                http://data.ordnancesurvey.co.uk/ontology/admingeo/Constituency   \n",
       "90                http://data.ordnancesurvey.co.uk/ontology/admingeo/WelshAssemblyElectoralRegion   \n",
       "91                             http://data.ordnancesurvey.co.uk/ontology/admingeo/CivilVotingArea   \n",
       "92                   http://data.ordnancesurvey.co.uk/ontology/admingeo/WelshAssemblyConstituency   \n",
       "93                                http://data.ordnancesurvey.co.uk/ontology/admingeo/Constituency   \n",
       "\n",
       "                                              namespace  \n",
       "0   http://data.ordnancesurvey.co.uk/ontology/admingeo/  \n",
       "1   http://data.ordnancesurvey.co.uk/ontology/admingeo/  \n",
       "2   http://data.ordnancesurvey.co.uk/ontology/admingeo/  \n",
       "3   http://data.ordnancesurvey.co.uk/ontology/admingeo/  \n",
       "4   http://data.ordnancesurvey.co.uk/ontology/admingeo/  \n",
       "..                                                  ...  \n",
       "89  http://data.ordnancesurvey.co.uk/ontology/admingeo/  \n",
       "90  http://data.ordnancesurvey.co.uk/ontology/admingeo/  \n",
       "91  http://data.ordnancesurvey.co.uk/ontology/admingeo/  \n",
       "92  http://data.ordnancesurvey.co.uk/ontology/admingeo/  \n",
       "93  http://data.ordnancesurvey.co.uk/ontology/admingeo/  \n",
       "\n",
       "[94 rows x 2 columns]"
      ]
     },
     "execution_count": 23,
     "metadata": {},
     "output_type": "execute_result"
    }
   ],
   "source": [
    
    "\n",
    "s = pd.Series(np.array(classes_names), name='class')\n",
    "df = s.to_frame()\n",
 
    "df['namespace'] = df['class'].apply(get_namespace)\n",
    "df"
   ]
  },
  {
   "cell_type": "code",
   "execution_count": 24,
   "id": "cf24249c",
   "metadata": {},
   "outputs": [
    {
     "data": {
      "text/html": [
       "<div>\n",
       "<style scoped>\n",
       "    .dataframe tbody tr th:only-of-type {\n",
       "        vertical-align: middle;\n",
       "    }\n",
       "\n",
       "    .dataframe tbody tr th {\n",
       "        vertical-align: top;\n",
       "    }\n",
       "\n",
       "    .dataframe thead th {\n",
       "        text-align: right;\n",
       "    }\n",
       "</style>\n",
       "<table border=\"1\" class=\"dataframe\">\n",
       "  <thead>\n",
       "    <tr style=\"text-align: right;\">\n",
       "      <th></th>\n",
       "      <th>class</th>\n",
       "      <th>namespace</th>\n",
       "    </tr>\n",
       "  </thead>\n",
       "  <tbody>\n",
       "    <tr>\n",
       "      <th>31</th>\n",
       "      <td>http://data.ordnancesurvey.co.uk/ontology/admingeo/Ward</td>\n",
       "      <td>http://data.ordnancesurvey.co.uk/ontology/admingeo/</td>\n",
       "    </tr>\n",
       "    <tr>\n",
       "      <th>85</th>\n",
       "      <td>http://data.ordnancesurvey.co.uk/ontology/admingeo/District</td>\n",
       "      <td>http://data.ordnancesurvey.co.uk/ontology/admingeo/</td>\n",
       "    </tr>\n",
       "    <tr>\n",
       "      <th>23</th>\n",
       "      <td>http://data.ordnancesurvey.co.uk/ontology/admingeo/ScottishParliamentElectoralRegion</td>\n",
       "      <td>http://data.ordnancesurvey.co.uk/ontology/admingeo/</td>\n",
       "    </tr>\n",
       "    <tr>\n",
       "      <th>9</th>\n",
       "      <td>http://data.ordnancesurvey.co.uk/ontology/admingeo/LondonBorough</td>\n",
       "      <td>http://data.ordnancesurvey.co.uk/ontology/admingeo/</td>\n",
       "    </tr>\n",
       "    <tr>\n",
       "      <th>45</th>\n",
       "      <td>http://data.ordnancesurvey.co.uk/ontology/admingeo/CivilVotingArea</td>\n",
       "      <td>http://data.ordnancesurvey.co.uk/ontology/admingeo/</td>\n",
       "    </tr>\n",
       "    <tr>\n",
       "      <th>61</th>\n",
       "      <td>http://data.ordnancesurvey.co.uk/ontology/admingeo/GreaterLondonAuthorityAssemblyConstituency</td>\n",
       "      <td>http://data.ordnancesurvey.co.uk/ontology/admingeo/</td>\n",
       "    </tr>\n",
       "    <tr>\n",
       "      <th>22</th>\n",
       "      <td>http://data.ordnancesurvey.co.uk/ontology/admingeo/GreaterLondonAuthority</td>\n",
       "      <td>http://data.ordnancesurvey.co.uk/ontology/admingeo/</td>\n",
       "    </tr>\n",
       "    <tr>\n",
       "      <th>34</th>\n",
       "      <td>http://data.ordnancesurvey.co.uk/ontology/admingeo/EuropeanRegion</td>\n",
       "      <td>http://data.ordnancesurvey.co.uk/ontology/admingeo/</td>\n",
       "    </tr>\n",
       "    <tr>\n",
       "      <th>88</th>\n",
       "      <td>http://data.ordnancesurvey.co.uk/ontology/admingeo/UnitaryAuthority</td>\n",
       "      <td>http://data.ordnancesurvey.co.uk/ontology/admingeo/</td>\n",
       "    </tr>\n",
       "    <tr>\n",
       "      <th>25</th>\n",
       "      <td>http://data.ordnancesurvey.co.uk/ontology/admingeo/GreaterLondonAuthorityAssemblyConstituency</td>\n",
       "      <td>http://data.ordnancesurvey.co.uk/ontology/admingeo/</td>\n",
       "    </tr>\n",
       "  </tbody>\n",
       "</table>\n",
       "</div>"
      ],
      "text/plain": [
       "                                                                                            class  \\\n",
       "31                                        http://data.ordnancesurvey.co.uk/ontology/admingeo/Ward   \n",
       "85                                    http://data.ordnancesurvey.co.uk/ontology/admingeo/District   \n",
       "23           http://data.ordnancesurvey.co.uk/ontology/admingeo/ScottishParliamentElectoralRegion   \n",
       "9                                http://data.ordnancesurvey.co.uk/ontology/admingeo/LondonBorough   \n",
       "45                             http://data.ordnancesurvey.co.uk/ontology/admingeo/CivilVotingArea   \n",
       "61  http://data.ordnancesurvey.co.uk/ontology/admingeo/GreaterLondonAuthorityAssemblyConstituency   \n",
       "22                      http://data.ordnancesurvey.co.uk/ontology/admingeo/GreaterLondonAuthority   \n",
       "34                              http://data.ordnancesurvey.co.uk/ontology/admingeo/EuropeanRegion   \n",
       "88                            http://data.ordnancesurvey.co.uk/ontology/admingeo/UnitaryAuthority   \n",
       "25  http://data.ordnancesurvey.co.uk/ontology/admingeo/GreaterLondonAuthorityAssemblyConstituency   \n",
       "\n",
       "                                              namespace  \n",
       "31  http://data.ordnancesurvey.co.uk/ontology/admingeo/  \n",
       "85  http://data.ordnancesurvey.co.uk/ontology/admingeo/  \n",
       "23  http://data.ordnancesurvey.co.uk/ontology/admingeo/  \n",
       "9   http://data.ordnancesurvey.co.uk/ontology/admingeo/  \n",
       "45  http://data.ordnancesurvey.co.uk/ontology/admingeo/  \n",
       "61  http://data.ordnancesurvey.co.uk/ontology/admingeo/  \n",
       "22  http://data.ordnancesurvey.co.uk/ontology/admingeo/  \n",
       "34  http://data.ordnancesurvey.co.uk/ontology/admingeo/  \n",
       "88  http://data.ordnancesurvey.co.uk/ontology/admingeo/  \n",
       "25  http://data.ordnancesurvey.co.uk/ontology/admingeo/  "
      ]
     },
     "execution_count": 24,
     "metadata": {},
     "output_type": "execute_result"
    }
   ],
   "source": [
    "df.sample(n=10)"
   ]
  },
  {
   "cell_type": "code",
   "execution_count": 25,
   "id": "9cba0405",
   "metadata": {},
   "outputs": [
    {
     "data": {
      "text/html": [
       "<div>\n",
       "<style scoped>\n",
       "    .dataframe tbody tr th:only-of-type {\n",
       "        vertical-align: middle;\n",
       "    }\n",
       "\n",
       "    .dataframe tbody tr th {\n",
       "        vertical-align: top;\n",
       "    }\n",
       "\n",
       "    .dataframe thead th {\n",
       "        text-align: right;\n",
       "    }\n",
       "</style>\n",
       "<table border=\"1\" class=\"dataframe\">\n",
       "  <thead>\n",
       "    <tr style=\"text-align: right;\">\n",
       "      <th></th>\n",
       "      <th>class</th>\n",
       "    </tr>\n",
       "    <tr>\n",
       "      <th>namespace</th>\n",
       "      <th></th>\n",
       "    </tr>\n",
       "  </thead>\n",
       "  <tbody>\n",
       "    <tr>\n",
       "      <th>http://data.ordnancesurvey.co.uk/ontology/admingeo/</th>\n",
       "      <td>89</td>\n",
       "    </tr>\n",
       "    <tr>\n",
       "      <th>http://data.ordnancesurvey.co.uk/ontology/geometry/</th>\n",
       "      <td>3</td>\n",
       "    </tr>\n",
       "    <tr>\n",
       "      <th>http://www.w3.org/2002/07/owl#</th>\n",
       "      <td>2</td>\n",
       "    </tr>\n",
       "  </tbody>\n",
       "</table>\n",
       "</div>"
      ],
      "text/plain": [
       "                                                     class\n",
       "namespace                                                 \n",
       "http://data.ordnancesurvey.co.uk/ontology/admingeo/     89\n",
       "http://data.ordnancesurvey.co.uk/ontology/geometry/      3\n",
       "http://www.w3.org/2002/07/owl#                           2"
      ]
     },
     "execution_count": 25,
     "metadata": {},
     "output_type": "execute_result"
    }
   ],
   "source": [
    "df.groupby(['namespace']).count()"
   ]
  },
  {
   "cell_type": "code",
   "execution_count": 26,
   "id": "494b2fd1",
   "metadata": {},
   "outputs": [
    {
     "data": {
      "text/html": [
       "<div>\n",
       "<style scoped>\n",
       "    .dataframe tbody tr th:only-of-type {\n",
       "        vertical-align: middle;\n",
       "    }\n",
       "\n",
       "    .dataframe tbody tr th {\n",
       "        vertical-align: top;\n",
       "    }\n",
       "\n",
       "    .dataframe thead th {\n",
       "        text-align: right;\n",
       "    }\n",
       "</style>\n",
       "<table border=\"1\" class=\"dataframe\">\n",
       "  <thead>\n",
       "    <tr style=\"text-align: right;\">\n",
       "      <th></th>\n",
       "      <th>class</th>\n",
       "      <th>namespace</th>\n",
       "    </tr>\n",
       "  </thead>\n",
       "  <tbody>\n",
       "    <tr>\n",
       "      <th>32</th>\n",
       "      <td>http://www.w3.org/2002/07/owl#Thing</td>\n",
       "      <td>http://www.w3.org/2002/07/owl#</td>\n",
       "    </tr>\n",
       "    <tr>\n",
       "      <th>33</th>\n",
       "      <td>http://data.ordnancesurvey.co.uk/ontology/geometry/AbstractGeometry</td>\n",
       "      <td>http://data.ordnancesurvey.co.uk/ontology/geometry/</td>\n",
       "    </tr>\n",
       "    <tr>\n",
       "      <th>42</th>\n",
       "      <td>http://data.ordnancesurvey.co.uk/ontology/geometry/AbstractGeometry</td>\n",
       "      <td>http://data.ordnancesurvey.co.uk/ontology/geometry/</td>\n",
       "    </tr>\n",
       "    <tr>\n",
       "      <th>56</th>\n",
       "      <td>http://www.w3.org/2002/07/owl#Thing</td>\n",
       "      <td>http://www.w3.org/2002/07/owl#</td>\n",
       "    </tr>\n",
       "    <tr>\n",
       "      <th>57</th>\n",
       "      <td>http://data.ordnancesurvey.co.uk/ontology/geometry/AbstractGeometry</td>\n",
       "      <td>http://data.ordnancesurvey.co.uk/ontology/geometry/</td>\n",
       "    </tr>\n",
       "  </tbody>\n",
       "</table>\n",
       "</div>"
      ],
      "text/plain": [
       "                                                                  class  \\\n",
       "32                                  http://www.w3.org/2002/07/owl#Thing   \n",
       "33  http://data.ordnancesurvey.co.uk/ontology/geometry/AbstractGeometry   \n",
       "42  http://data.ordnancesurvey.co.uk/ontology/geometry/AbstractGeometry   \n",
       "56                                  http://www.w3.org/2002/07/owl#Thing   \n",
       "57  http://data.ordnancesurvey.co.uk/ontology/geometry/AbstractGeometry   \n",
       "\n",
       "                                              namespace  \n",
       "32                       http://www.w3.org/2002/07/owl#  \n",
       "33  http://data.ordnancesurvey.co.uk/ontology/geometry/  \n",
       "42  http://data.ordnancesurvey.co.uk/ontology/geometry/  \n",
       "56                       http://www.w3.org/2002/07/owl#  \n",
       "57  http://data.ordnancesurvey.co.uk/ontology/geometry/  "
      ]
     },
     "execution_count": 26,
     "metadata": {},
     "output_type": "execute_result"
    }
   ],
   "source": [
    "external_classes = df[df['namespace'] != base_ns]\n",
    "external_classes"
   ]
  },
  {
   "cell_type": "code",
   "execution_count": 27,
   "id": "e4737902",
   "metadata": {},
   "outputs": [
    {
     "data": {
      "text/html": [
       "<div>\n",
       "<style scoped>\n",
       "    .dataframe tbody tr th:only-of-type {\n",
       "        vertical-align: middle;\n",
       "    }\n",
       "\n",
       "    .dataframe tbody tr th {\n",
       "        vertical-align: top;\n",
       "    }\n",
       "\n",
       "    .dataframe thead th {\n",
       "        text-align: right;\n",
       "    }\n",
       "</style>\n",
       "<table border=\"1\" class=\"dataframe\">\n",
       "  <thead>\n",
       "    <tr style=\"text-align: right;\">\n",
       "      <th></th>\n",
       "      <th>namespace</th>\n",
       "    </tr>\n",
       "    <tr>\n",
       "      <th>class</th>\n",
       "      <th></th>\n",
       "    </tr>\n",
       "  </thead>\n",
       "  <tbody>\n",
       "    <tr>\n",
       "      <th>http://data.ordnancesurvey.co.uk/ontology/geometry/AbstractGeometry</th>\n",
       "      <td>3</td>\n",
       "    </tr>\n",
       "    <tr>\n",
       "      <th>http://www.w3.org/2002/07/owl#Thing</th>\n",
       "      <td>2</td>\n",
       "    </tr>\n",
       "  </tbody>\n",
       "</table>\n",
       "</div>"
      ],
      "text/plain": [
       "                                                                     namespace\n",
       "class                                                                         \n",
       "http://data.ordnancesurvey.co.uk/ontology/geometry/AbstractGeometry          3\n",
       "http://www.w3.org/2002/07/owl#Thing                                          2"
      ]
     },
     "execution_count": 27,
     "metadata": {},
     "output_type": "execute_result"
    }
   ],
   "source": [
    "external_classes.groupby(['class']).count()"
   ]
  },
  {
   "cell_type": "code",
   "execution_count": null,
   "id": "66bb8cb6",
   "metadata": {},
   "outputs": [],
   "source": []
  },
  {
   "cell_type": "code",
   "execution_count": null,
   "id": "992b1e42",
   "metadata": {},
   "outputs": [],
   "source": []
  }
 ],
 "metadata": {
  "kernelspec": {
   "display_name": "Python 3 (ipykernel)",
   "language": "python",
   "name": "python3"
  },
  "language_info": {
   "codemirror_mode": {
    "name": "ipython",
    "version": 3
   },
   "file_extension": ".py",
   "mimetype": "text/x-python",
   "name": "python",
   "nbconvert_exporter": "python",
   "pygments_lexer": "ipython3",
   "version": "3.9.13"
  }
 },
 "nbformat": 4,
 "nbformat_minor": 5
}
