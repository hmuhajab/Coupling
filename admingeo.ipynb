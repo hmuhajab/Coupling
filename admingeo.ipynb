{
 "cells": [
  {
   "cell_type": "code",
   "execution_count": 2,
   "id": "b7e1883b",
   "metadata": {},
   "outputs": [],
   "source": [
    "import xml.etree.ElementTree as ET\n",
    "from io import StringIO\n",
    "from lxml import etree\n",
    "import numpy as np\n",
    "import pandas as pd\n",
    "import re\n"
   ]
  },
  {
   "cell_type": "code",
   "execution_count": 3,
   "id": "82faa1e5",
   "metadata": {},
   "outputs": [],
   "source": [
    "pd.options.display.max_colwidth = 100\n"
   ]
  },
  {
   "cell_type": "code",
   "execution_count": 4,
   "id": "2ec1b44f",
   "metadata": {},
   "outputs": [
    {
     "ename": "FileNotFoundError",
     "evalue": "[Errno 2] No such file or directory: 'admingeo.owl'",
     "output_type": "error",
     "traceback": [
      "\u001b[0;31m---------------------------------------------------------------------------\u001b[0m",
      "\u001b[0;31mFileNotFoundError\u001b[0m                         Traceback (most recent call last)",
      "\u001b[0;32m/var/folders/t7/68f7x36d4x5bx9ht53lg3ty80000gn/T/ipykernel_24437/856466215.py\u001b[0m in \u001b[0;36m<module>\u001b[0;34m\u001b[0m\n\u001b[0;32m----> 1\u001b[0;31m \u001b[0mtree\u001b[0m \u001b[0;34m=\u001b[0m \u001b[0mET\u001b[0m\u001b[0;34m.\u001b[0m\u001b[0mparse\u001b[0m\u001b[0;34m(\u001b[0m\u001b[0;34m'admingeo.owl'\u001b[0m\u001b[0;34m)\u001b[0m\u001b[0;34m\u001b[0m\u001b[0;34m\u001b[0m\u001b[0m\n\u001b[0m\u001b[1;32m      2\u001b[0m \u001b[0mroot\u001b[0m \u001b[0;34m=\u001b[0m \u001b[0mtree\u001b[0m\u001b[0;34m.\u001b[0m\u001b[0mgetroot\u001b[0m\u001b[0;34m(\u001b[0m\u001b[0;34m)\u001b[0m\u001b[0;34m\u001b[0m\u001b[0;34m\u001b[0m\u001b[0m\n",
      "\u001b[0;32m~/opt/anaconda3/lib/python3.9/xml/etree/ElementTree.py\u001b[0m in \u001b[0;36mparse\u001b[0;34m(source, parser)\u001b[0m\n\u001b[1;32m   1227\u001b[0m     \"\"\"\n\u001b[1;32m   1228\u001b[0m     \u001b[0mtree\u001b[0m \u001b[0;34m=\u001b[0m \u001b[0mElementTree\u001b[0m\u001b[0;34m(\u001b[0m\u001b[0;34m)\u001b[0m\u001b[0;34m\u001b[0m\u001b[0;34m\u001b[0m\u001b[0m\n\u001b[0;32m-> 1229\u001b[0;31m     \u001b[0mtree\u001b[0m\u001b[0;34m.\u001b[0m\u001b[0mparse\u001b[0m\u001b[0;34m(\u001b[0m\u001b[0msource\u001b[0m\u001b[0;34m,\u001b[0m \u001b[0mparser\u001b[0m\u001b[0;34m)\u001b[0m\u001b[0;34m\u001b[0m\u001b[0;34m\u001b[0m\u001b[0m\n\u001b[0m\u001b[1;32m   1230\u001b[0m     \u001b[0;32mreturn\u001b[0m \u001b[0mtree\u001b[0m\u001b[0;34m\u001b[0m\u001b[0;34m\u001b[0m\u001b[0m\n\u001b[1;32m   1231\u001b[0m \u001b[0;34m\u001b[0m\u001b[0m\n",
      "\u001b[0;32m~/opt/anaconda3/lib/python3.9/xml/etree/ElementTree.py\u001b[0m in \u001b[0;36mparse\u001b[0;34m(self, source, parser)\u001b[0m\n\u001b[1;32m    567\u001b[0m         \u001b[0mclose_source\u001b[0m \u001b[0;34m=\u001b[0m \u001b[0;32mFalse\u001b[0m\u001b[0;34m\u001b[0m\u001b[0;34m\u001b[0m\u001b[0m\n\u001b[1;32m    568\u001b[0m         \u001b[0;32mif\u001b[0m \u001b[0;32mnot\u001b[0m \u001b[0mhasattr\u001b[0m\u001b[0;34m(\u001b[0m\u001b[0msource\u001b[0m\u001b[0;34m,\u001b[0m \u001b[0;34m\"read\"\u001b[0m\u001b[0;34m)\u001b[0m\u001b[0;34m:\u001b[0m\u001b[0;34m\u001b[0m\u001b[0;34m\u001b[0m\u001b[0m\n\u001b[0;32m--> 569\u001b[0;31m             \u001b[0msource\u001b[0m \u001b[0;34m=\u001b[0m \u001b[0mopen\u001b[0m\u001b[0;34m(\u001b[0m\u001b[0msource\u001b[0m\u001b[0;34m,\u001b[0m \u001b[0;34m\"rb\"\u001b[0m\u001b[0;34m)\u001b[0m\u001b[0;34m\u001b[0m\u001b[0;34m\u001b[0m\u001b[0m\n\u001b[0m\u001b[1;32m    570\u001b[0m             \u001b[0mclose_source\u001b[0m \u001b[0;34m=\u001b[0m \u001b[0;32mTrue\u001b[0m\u001b[0;34m\u001b[0m\u001b[0;34m\u001b[0m\u001b[0m\n\u001b[1;32m    571\u001b[0m         \u001b[0;32mtry\u001b[0m\u001b[0;34m:\u001b[0m\u001b[0;34m\u001b[0m\u001b[0;34m\u001b[0m\u001b[0m\n",
      "\u001b[0;31mFileNotFoundError\u001b[0m: [Errno 2] No such file or directory: 'admingeo.owl'"
     ]
    }
   ],
   "source": [
    "\n",
    "\n",
    "\n",
    "\n",
    "\n",
    "tree = ET.parse('admingeo.owl')\n",
    "root = tree.getroot()"
   ]
  },
  {
   "cell_type": "code",
   "execution_count": null,
   "id": "a823cb50",
   "metadata": {},
   "outputs": [],
   "source": [
    "# find the namespace of owl file, The attrib attribute of an ElementTree element.Comment=\n",
    "# The namespace whose name is http://www.w3.org/XML/1998/namespace is bound by definition to the prefix xml: \n",
    "\n",
    "base_ns = root.attrib['{http://www.w3.org/XML/1998/namespace}base']"
   ]
  },
  {
   "cell_type": "code",
   "execution_count": 41,
   "id": "cee41cd6",
   "metadata": {},
   "outputs": [
    {
     "name": "stdout",
     "output_type": "stream",
     "text": [
      "The base namespace is http://data.ordnancesurvey.co.uk/ontology/admingeo/\n"
     ]
    }
   ],
   "source": [
    "print(f\"The base namespace is {base_ns}\")"
   ]
  },
  {
   "cell_type": "code",
   "execution_count": 6,
   "id": "95daf1ec",
   "metadata": {},
   "outputs": [],
   "source": [
    "# get all the namespace defined in the owl file\n",
    "\n",
    "my_namespaces = dict([\n",
    "     node for _, node in ET.iterparse(\"admingeo.owl\", events=['start-ns'])])"
   ]
  },
  {
   "cell_type": "code",
   "execution_count": 7,
   "id": "0c0f672e",
   "metadata": {},
   "outputs": [
    {
     "data": {
      "text/plain": [
       "{'': 'http://data.ordnancesurvey.co.uk/ontology/admingeo/',\n",
       " 'dc': 'http://purl.org/dc/elements/1.1/',\n",
       " 'rdf-schema': 'http://data.ordnancesurvey.co.uk/ontology/admingeo/http://www.w3.org/2000/01/rdf-schema#',\n",
       " 'spatialrelations': 'http://data.ordnancesurvey.co.uk/ontology/spatialrelations/',\n",
       " 'geometry': 'http://data.ordnancesurvey.co.uk/ontology/geometry/',\n",
       " 'rdfs': 'http://www.w3.org/2000/01/rdf-schema#',\n",
       " 'owl2xml': 'http://www.w3.org/2006/12/owl2-xml#',\n",
       " 'dct': 'http://purl.org/dc/terms/',\n",
       " 'owl': 'http://www.w3.org/2002/07/owl#',\n",
       " 'xsd': 'http://www.w3.org/2001/XMLSchema#',\n",
       " 'rdf': 'http://www.w3.org/1999/02/22-rdf-syntax-ns#',\n",
       " 'core': 'http://data.ordnancesurvey.co.uk/ontology/admingeo/http://www.w3.org/2004/02/skos/core#',\n",
       " 'skos': 'http://www.w3.org/2004/02/skos/core#',\n",
       " 'cc': 'http://creativecommons.org/ns#'}"
      ]
     },
     "execution_count": 7,
     "metadata": {},
     "output_type": "execute_result"
    }
   ],
   "source": [
    "my_namespaces"
   ]
  },
  {
   "cell_type": "code",
   "execution_count": 8,
   "id": "02e22a91",
   "metadata": {},
   "outputs": [],
   "source": [
    "tree = etree.parse('admingeo.owl')"
   ]
  },
  {
   "cell_type": "code",
   "execution_count": 9,
   "id": "28e04948",
   "metadata": {},
   "outputs": [
    {
     "data": {
      "text/plain": [
       "<lxml.etree._ElementTree at 0x7fd2c8d12100>"
      ]
     },
     "execution_count": 9,
     "metadata": {},
     "output_type": "execute_result"
    }
   ],
   "source": [
    "tree"
   ]
  },
  {
   "cell_type": "code",
   "execution_count": 10,
   "id": "3d194f70",
   "metadata": {},
   "outputs": [],
   "source": [
    "my_namespaces['admingeo'] = my_namespaces.pop('')"
   ]
  },
  {
   "cell_type": "code",
   "execution_count": 11,
   "id": "716d4fb2",
   "metadata": {},
   "outputs": [
    {
     "data": {
      "text/plain": [
       "{'dc': 'http://purl.org/dc/elements/1.1/',\n",
       " 'rdf-schema': 'http://data.ordnancesurvey.co.uk/ontology/admingeo/http://www.w3.org/2000/01/rdf-schema#',\n",
       " 'spatialrelations': 'http://data.ordnancesurvey.co.uk/ontology/spatialrelations/',\n",
       " 'geometry': 'http://data.ordnancesurvey.co.uk/ontology/geometry/',\n",
       " 'rdfs': 'http://www.w3.org/2000/01/rdf-schema#',\n",
       " 'owl2xml': 'http://www.w3.org/2006/12/owl2-xml#',\n",
       " 'dct': 'http://purl.org/dc/terms/',\n",
       " 'owl': 'http://www.w3.org/2002/07/owl#',\n",
       " 'xsd': 'http://www.w3.org/2001/XMLSchema#',\n",
       " 'rdf': 'http://www.w3.org/1999/02/22-rdf-syntax-ns#',\n",
       " 'core': 'http://data.ordnancesurvey.co.uk/ontology/admingeo/http://www.w3.org/2004/02/skos/core#',\n",
       " 'skos': 'http://www.w3.org/2004/02/skos/core#',\n",
       " 'cc': 'http://creativecommons.org/ns#',\n",
       " 'admingeo': 'http://data.ordnancesurvey.co.uk/ontology/admingeo/'}"
      ]
     },
     "execution_count": 11,
     "metadata": {},
     "output_type": "execute_result"
    }
   ],
   "source": [
    "my_namespaces"
   ]
  },
  {
   "cell_type": "code",
   "execution_count": 12,
   "id": "95baeedf",
   "metadata": {},
   "outputs": [],
   "source": [
    "#Xpath string to get all classes referenced on classes definitions.\n",
    "\n",
    "paths_from_classes = \"\"\"./owl:Class//owl:disjointWith[@rdf:resource]|\n",
    "./owl:Class//owl:complementOf/owl:Class[@rdf:about]|\n",
    "./owl:Class//owl:unionOf/owl:Class[@rdf:about]|\n",
    "./owl:Class//owl:unionOf/rdf:Description[@rdf:about]|\n",
    "./owl:Class//owl:intersectionOf/owl:Class[@rdf:about]|\n",
    "./owl:Class//owl:intersectionOf/rdf:Description[@rdf:about]|\n",
    "./owl:Class//rdfs:subClassOf/owl:Restriction/owl:allValuesFrom[@rdf:resource]|\n",
    "./owl:Class//rdfs:subClassOf/owl:Restriction/owl:someValuesFrom[@rdf:resource]|\n",
    "./owl:Class//rdfs:subClassOf/owl:Restriction/owl:onClass[@rdf:resource]|\n",
    "./owl:Class/rdfs:subClassOf[@rdf:resource]\"\"\""
   ]
  },
  {
   "cell_type": "code",
   "execution_count": 13,
   "id": "ca801d03",
   "metadata": {},
   "outputs": [],
   "source": [
    "#Xpath string to get all classes referenced on properties definitions.\n",
    "\n",
    "paths_from_properties = \"\"\"./owl:ObjectProperty/rdfs:domain/owl:Class//owl:disjointWith[@rdf:resource]|\n",
    "./owl:ObjectProperty/rdfs:domain/owl:Class//owl:complementOf/owl:Class[@rdf:about]|\n",
    "./owl:ObjectProperty/rdfs:domain/owl:Class//owl:unionOf/owl:Class[@rdf:about]|\n",
    "./owl:ObjectProperty/rdfs:domain/owl:Class//owl:unionOf/rdf:Description[@rdf:about]|\n",
    "./owl:ObjectProperty/rdfs:domain/owl:Class//owl:intersectionOf/owl:Class[@rdf:about]|\n",
    "./owl:ObjectProperty/rdfs:domain/owl:Class//owl:intersectionOf/rdf:Description[@rdf:about]|\n",
    "./owl:ObjectProperty/rdfs:domain/owl:Class//rdfs:subClassOf/owl:Restriction/owl:allValuesFrom[@rdf:resource]|\n",
    "./owl:ObjectProperty/rdfs:domain/owl:Class//rdfs:subClassOf/owl:Restriction/owl:someValuesFrom[@rdf:resource]|\n",
    "./owl:ObjectProperty/rdfs:domain/owl:Class//rdfs:subClassOf/owl:Restriction/owl:onClass[@rdf:resource]|\n",
    "./owl:ObjectProperty/rdfs:domain/owl:Class//rdfs:subClassOf[@rdf:resource]|\n",
    "./owl:ObjectProperty/rdfs:domain/owl:Class[@rdf:about]|\n",
    "./owl:ObjectProperty/rdfs:range/owl:Class//owl:disjointWith[@rdf:resource]|\n",
    "./owl:ObjectProperty/rdfs:range/owl:Class//owl:complementOf/owl:Class[@rdf:about]|\n",
    "./owl:ObjectProperty/rdfs:range/owl:Class//owl:unionOf/owl:Class[@rdf:about]|\n",
    "./owl:ObjectProperty/rdfs:range/owl:Class//owl:unionOf/rdf:Description[@rdf:about]|\n",
    "./owl:ObjectProperty/rdfs:range/owl:Class//owl:intersectionOf/owl:Class[@rdf:about]|\n",
    "./owl:ObjectProperty/rdfs:range/owl:Class//owl:intersectionOf/rdf:Description[@rdf:about]|\n",
    "./owl:ObjectProperty/rdfs:range/owl:Class//rdfs:subClassOf/owl:Restriction/owl:allValuesFrom[@rdf:resource]|\n",
    "./owl:ObjectProperty/rdfs:range/owl:Class//rdfs:subClassOf/owl:Restriction/owl:someValuesFrom[@rdf:resource]|\n",
    "./owl:ObjectProperty/rdfs:range/owl:Class//rdfs:subClassOf/owl:Restriction/owl:onClass[@rdf:resource]|\n",
    "./owl:ObjectProperty/rdfs:range/owl:Class//rdfs:subClassOf[@rdf:resource]|\n",
    "./owl:ObjectProperty/rdfs:range/owl:Class[@rdf:about]\"\"\""
   ]
  },
  {
   "cell_type": "code",
   "execution_count": 14,
   "id": "950e9fa2",
   "metadata": {},
   "outputs": [],
   "source": [
    "paths = paths_from_classes + \"|\\n\" + paths_from_properties"
   ]
  },
  {
   "cell_type": "code",
   "execution_count": 15,
   "id": "3a3edea1",
   "metadata": {},
   "outputs": [
    {
     "name": "stdout",
     "output_type": "stream",
     "text": [
      "./owl:Class//owl:disjointWith[@rdf:resource]|\n",
      "./owl:Class//owl:complementOf/owl:Class[@rdf:about]|\n",
      "./owl:Class//owl:unionOf/owl:Class[@rdf:about]|\n",
      "./owl:Class//owl:unionOf/rdf:Description[@rdf:about]|\n",
      "./owl:Class//owl:intersectionOf/owl:Class[@rdf:about]|\n",
      "./owl:Class//owl:intersectionOf/rdf:Description[@rdf:about]|\n",
      "./owl:Class//rdfs:subClassOf/owl:Restriction/owl:allValuesFrom[@rdf:resource]|\n",
      "./owl:Class//rdfs:subClassOf/owl:Restriction/owl:someValuesFrom[@rdf:resource]|\n",
      "./owl:Class//rdfs:subClassOf/owl:Restriction/owl:onClass[@rdf:resource]|\n",
      "./owl:Class/rdfs:subClassOf[@rdf:resource]|\n",
      "./owl:ObjectProperty/rdfs:domain/owl:Class//owl:disjointWith[@rdf:resource]|\n",
      "./owl:ObjectProperty/rdfs:domain/owl:Class//owl:complementOf/owl:Class[@rdf:about]|\n",
      "./owl:ObjectProperty/rdfs:domain/owl:Class//owl:unionOf/owl:Class[@rdf:about]|\n",
      "./owl:ObjectProperty/rdfs:domain/owl:Class//owl:unionOf/rdf:Description[@rdf:about]|\n",
      "./owl:ObjectProperty/rdfs:domain/owl:Class//owl:intersectionOf/owl:Class[@rdf:about]|\n",
      "./owl:ObjectProperty/rdfs:domain/owl:Class//owl:intersectionOf/rdf:Description[@rdf:about]|\n",
      "./owl:ObjectProperty/rdfs:domain/owl:Class//rdfs:subClassOf/owl:Restriction/owl:allValuesFrom[@rdf:resource]|\n",
      "./owl:ObjectProperty/rdfs:domain/owl:Class//rdfs:subClassOf/owl:Restriction/owl:someValuesFrom[@rdf:resource]|\n",
      "./owl:ObjectProperty/rdfs:domain/owl:Class//rdfs:subClassOf/owl:Restriction/owl:onClass[@rdf:resource]|\n",
      "./owl:ObjectProperty/rdfs:domain/owl:Class//rdfs:subClassOf[@rdf:resource]|\n",
      "./owl:ObjectProperty/rdfs:domain/owl:Class[@rdf:about]|\n",
      "./owl:ObjectProperty/rdfs:range/owl:Class//owl:disjointWith[@rdf:resource]|\n",
      "./owl:ObjectProperty/rdfs:range/owl:Class//owl:complementOf/owl:Class[@rdf:about]|\n",
      "./owl:ObjectProperty/rdfs:range/owl:Class//owl:unionOf/owl:Class[@rdf:about]|\n",
      "./owl:ObjectProperty/rdfs:range/owl:Class//owl:unionOf/rdf:Description[@rdf:about]|\n",
      "./owl:ObjectProperty/rdfs:range/owl:Class//owl:intersectionOf/owl:Class[@rdf:about]|\n",
      "./owl:ObjectProperty/rdfs:range/owl:Class//owl:intersectionOf/rdf:Description[@rdf:about]|\n",
      "./owl:ObjectProperty/rdfs:range/owl:Class//rdfs:subClassOf/owl:Restriction/owl:allValuesFrom[@rdf:resource]|\n",
      "./owl:ObjectProperty/rdfs:range/owl:Class//rdfs:subClassOf/owl:Restriction/owl:someValuesFrom[@rdf:resource]|\n",
      "./owl:ObjectProperty/rdfs:range/owl:Class//rdfs:subClassOf/owl:Restriction/owl:onClass[@rdf:resource]|\n",
      "./owl:ObjectProperty/rdfs:range/owl:Class//rdfs:subClassOf[@rdf:resource]|\n",
      "./owl:ObjectProperty/rdfs:range/owl:Class[@rdf:about]\n"
     ]
    }
   ],
   "source": [
    "print(paths)\n"
   ]
  },
  {
   "cell_type": "code",
   "execution_count": 16,
   "id": "b1cb2b7b",
   "metadata": {
    "scrolled": true
   },
   "outputs": [],
   "source": [
    "#Get the elements (nodes) of the xml tree that match our XPath string.\n",
    "classes = tree.xpath(paths, namespaces = my_namespaces)"
   ]
  },
  {
   "cell_type": "code",
   "execution_count": 17,
   "id": "7f349e7c",
   "metadata": {},
   "outputs": [
    {
     "name": "stdout",
     "output_type": "stream",
     "text": [
      "We found 94 classes.\n"
     ]
    }
   ],
   "source": [
    "print(f\"We found {len(classes)} classes.\")"
   ]
  },
  {
   "cell_type": "code",
   "execution_count": 18,
   "id": "672f4c39",
   "metadata": {},
   "outputs": [],
   "source": [
    "# get the rdf:resource (or rdf:about) attribute of an element of the XML tree representing an ontology class.\n",
    "def rdf_resource_or_about(element):\n",
    "#get all atttribute of the xml nodes, element is a node \n",
    "    d = dict(element.attrib);\n",
    "    if '{http://www.w3.org/1999/02/22-rdf-syntax-ns#}resource' in d:        \n",
    "        return element.attrib['{http://www.w3.org/1999/02/22-rdf-syntax-ns#}resource']\n",
    "    elif '{http://www.w3.org/1999/02/22-rdf-syntax-ns#}about' in d:        \n",
    "        return element.attrib['{http://www.w3.org/1999/02/22-rdf-syntax-ns#}about']"
   ]
  },
  {
   "cell_type": "code",
   "execution_count": 19,
   "id": "3ca0fc9a",
   "metadata": {},
   "outputs": [],
   "source": [
    "# get the rdf:resource (or rdf:about) attribute of all elements of an array.\n",
    "def classes_uri(elements):\n",
    "    return list(map(lambda a : rdf_resource_or_about(a), elements))\n",
    "\n"
   ]
  },
  {
   "cell_type": "code",
   "execution_count": 20,
   "id": "93a955f6",
   "metadata": {},
   "outputs": [],
   "source": [
    "# get the namespace of an URI string.\n",
    "def get_namespace(string):\n",
    "    return re.search(\"^.*[/#]\", string).group()"
   ]
  },
  {
   "cell_type": "code",
   "execution_count": 21,
   "id": "f96bb83e",
   "metadata": {},
   "outputs": [
    {
     "data": {
      "text/plain": [
       "'http://data.ordnancesurvey.co.uk/ontology/admingeo/'"
      ]
     },
     "execution_count": 21,
     "metadata": {},
     "output_type": "execute_result"
    }
   ],
   "source": [
    "get_namespace('http://data.ordnancesurvey.co.uk/ontology/admingeo/GreaterLondonAuthorityAssemblyConstituency')\n"
   ]
  },
  {
   "cell_type": "code",
   "execution_count": 22,
   "id": "53482186",
   "metadata": {},
   "outputs": [
    {
     "data": {
      "text/plain": [
       "['http://data.ordnancesurvey.co.uk/ontology/admingeo/GreaterLondonAuthorityAssemblyConstituency',\n",
       " 'http://data.ordnancesurvey.co.uk/ontology/admingeo/ScottishParliamentConstituency',\n",
       " 'http://data.ordnancesurvey.co.uk/ontology/admingeo/WelshAssemblyConstituency',\n",
       " 'http://data.ordnancesurvey.co.uk/ontology/admingeo/GreaterLondonAuthority',\n",
       " 'http://data.ordnancesurvey.co.uk/ontology/admingeo/ScottishParliamentElectoralRegion',\n",
       " 'http://data.ordnancesurvey.co.uk/ontology/admingeo/WelshAssemblyElectoralRegion',\n",
       " 'http://data.ordnancesurvey.co.uk/ontology/admingeo/County',\n",
       " 'http://data.ordnancesurvey.co.uk/ontology/admingeo/GreaterLondonAuthority',\n",
       " 'http://data.ordnancesurvey.co.uk/ontology/admingeo/District',\n",
       " 'http://data.ordnancesurvey.co.uk/ontology/admingeo/LondonBorough',\n",
       " 'http://data.ordnancesurvey.co.uk/ontology/admingeo/MetropolitanDistrict',\n",
       " 'http://data.ordnancesurvey.co.uk/ontology/admingeo/UnitaryAuthority',\n",
       " 'http://data.ordnancesurvey.co.uk/ontology/admingeo/County',\n",
       " 'http://data.ordnancesurvey.co.uk/ontology/admingeo/GreaterLondonAuthority',\n",
       " 'http://data.ordnancesurvey.co.uk/ontology/admingeo/District',\n",
       " 'http://data.ordnancesurvey.co.uk/ontology/admingeo/LondonBorough',\n",
       " 'http://data.ordnancesurvey.co.uk/ontology/admingeo/MetropolitanDistrict',\n",
       " 'http://data.ordnancesurvey.co.uk/ontology/admingeo/UnitaryAuthority',\n",
       " 'http://data.ordnancesurvey.co.uk/ontology/admingeo/CivilParish',\n",
       " 'http://data.ordnancesurvey.co.uk/ontology/admingeo/Community',\n",
       " 'http://data.ordnancesurvey.co.uk/ontology/admingeo/UnitaryAuthorityElectoralDivision',\n",
       " 'http://data.ordnancesurvey.co.uk/ontology/admingeo/Ward',\n",
       " 'http://data.ordnancesurvey.co.uk/ontology/admingeo/GreaterLondonAuthority',\n",
       " 'http://data.ordnancesurvey.co.uk/ontology/admingeo/ScottishParliamentElectoralRegion',\n",
       " 'http://data.ordnancesurvey.co.uk/ontology/admingeo/WelshAssemblyElectoralRegion',\n",
       " 'http://data.ordnancesurvey.co.uk/ontology/admingeo/GreaterLondonAuthorityAssemblyConstituency',\n",
       " 'http://data.ordnancesurvey.co.uk/ontology/admingeo/ScottishParliamentConstituency',\n",
       " 'http://data.ordnancesurvey.co.uk/ontology/admingeo/WelshAssemblyConstituency',\n",
       " 'http://data.ordnancesurvey.co.uk/ontology/admingeo/CivilParish',\n",
       " 'http://data.ordnancesurvey.co.uk/ontology/admingeo/Community',\n",
       " 'http://data.ordnancesurvey.co.uk/ontology/admingeo/UnitaryAuthorityElectoralDivision',\n",
       " 'http://data.ordnancesurvey.co.uk/ontology/admingeo/Ward',\n",
       " 'http://www.w3.org/2002/07/owl#Thing',\n",
       " 'http://data.ordnancesurvey.co.uk/ontology/geometry/AbstractGeometry',\n",
       " 'http://data.ordnancesurvey.co.uk/ontology/admingeo/EuropeanRegion',\n",
       " 'http://data.ordnancesurvey.co.uk/ontology/admingeo/CivilVotingArea',\n",
       " 'http://data.ordnancesurvey.co.uk/ontology/admingeo/CivilAdministrativeArea',\n",
       " 'http://data.ordnancesurvey.co.uk/ontology/admingeo/County',\n",
       " 'http://data.ordnancesurvey.co.uk/ontology/admingeo/District',\n",
       " 'http://data.ordnancesurvey.co.uk/ontology/admingeo/MetropolitanDistrict',\n",
       " 'http://data.ordnancesurvey.co.uk/ontology/admingeo/UnitaryAuthority',\n",
       " 'http://data.ordnancesurvey.co.uk/ontology/admingeo/EuropeanRegion',\n",
       " 'http://data.ordnancesurvey.co.uk/ontology/geometry/AbstractGeometry',\n",
       " 'http://data.ordnancesurvey.co.uk/ontology/admingeo/CivilAdministrativeArea',\n",
       " 'http://data.ordnancesurvey.co.uk/ontology/admingeo/UnitaryAuthority',\n",
       " 'http://data.ordnancesurvey.co.uk/ontology/admingeo/CivilVotingArea',\n",
       " 'http://data.ordnancesurvey.co.uk/ontology/admingeo/CivilAdministrativeArea',\n",
       " 'http://data.ordnancesurvey.co.uk/ontology/admingeo/District',\n",
       " 'http://data.ordnancesurvey.co.uk/ontology/admingeo/CivilVotingArea',\n",
       " 'http://data.ordnancesurvey.co.uk/ontology/admingeo/County',\n",
       " 'http://data.ordnancesurvey.co.uk/ontology/admingeo/CivilAdministrativeArea',\n",
       " 'http://data.ordnancesurvey.co.uk/ontology/admingeo/DistrictWard',\n",
       " 'http://data.ordnancesurvey.co.uk/ontology/admingeo/County',\n",
       " 'http://data.ordnancesurvey.co.uk/ontology/admingeo/Ward',\n",
       " 'http://data.ordnancesurvey.co.uk/ontology/admingeo/County',\n",
       " 'http://data.ordnancesurvey.co.uk/ontology/admingeo/District',\n",
       " 'http://www.w3.org/2002/07/owl#Thing',\n",
       " 'http://data.ordnancesurvey.co.uk/ontology/geometry/AbstractGeometry',\n",
       " 'http://data.ordnancesurvey.co.uk/ontology/admingeo/WestminsterConstituency',\n",
       " 'http://data.ordnancesurvey.co.uk/ontology/admingeo/CivilAdministrativeArea',\n",
       " 'http://data.ordnancesurvey.co.uk/ontology/admingeo/LondonBorough',\n",
       " 'http://data.ordnancesurvey.co.uk/ontology/admingeo/GreaterLondonAuthorityAssemblyConstituency',\n",
       " 'http://data.ordnancesurvey.co.uk/ontology/admingeo/Constituency',\n",
       " 'http://data.ordnancesurvey.co.uk/ontology/admingeo/GreaterLondonAuthority',\n",
       " 'http://data.ordnancesurvey.co.uk/ontology/admingeo/CivilAdministrativeArea',\n",
       " 'http://data.ordnancesurvey.co.uk/ontology/admingeo/LondonBoroughWard',\n",
       " 'http://data.ordnancesurvey.co.uk/ontology/admingeo/GreaterLondonAuthority',\n",
       " 'http://data.ordnancesurvey.co.uk/ontology/admingeo/Ward',\n",
       " 'http://data.ordnancesurvey.co.uk/ontology/admingeo/GreaterLondonAuthority',\n",
       " 'http://data.ordnancesurvey.co.uk/ontology/admingeo/LondonBorough',\n",
       " 'http://data.ordnancesurvey.co.uk/ontology/admingeo/CivilAdministrativeArea',\n",
       " 'http://data.ordnancesurvey.co.uk/ontology/admingeo/MetropolitanDistrictWard',\n",
       " 'http://data.ordnancesurvey.co.uk/ontology/admingeo/Ward',\n",
       " 'http://data.ordnancesurvey.co.uk/ontology/admingeo/MetropolitanDistrict',\n",
       " 'http://data.ordnancesurvey.co.uk/ontology/admingeo/Constituency',\n",
       " 'http://data.ordnancesurvey.co.uk/ontology/admingeo/ScottishParliamentElectoralRegion',\n",
       " 'http://data.ordnancesurvey.co.uk/ontology/admingeo/CivilVotingArea',\n",
       " 'http://data.ordnancesurvey.co.uk/ontology/admingeo/ScottishParliamentConstituency',\n",
       " 'http://data.ordnancesurvey.co.uk/ontology/admingeo/CivilAdministrativeArea',\n",
       " 'http://data.ordnancesurvey.co.uk/ontology/admingeo/UnitaryAuthorityElectoralDivision',\n",
       " 'http://data.ordnancesurvey.co.uk/ontology/admingeo/UnitaryAuthorityWard',\n",
       " 'http://data.ordnancesurvey.co.uk/ontology/admingeo/CivilVotingArea',\n",
       " 'http://data.ordnancesurvey.co.uk/ontology/admingeo/Ward',\n",
       " 'http://data.ordnancesurvey.co.uk/ontology/admingeo/UnitaryAuthority',\n",
       " 'http://data.ordnancesurvey.co.uk/ontology/admingeo/CivilVotingArea',\n",
       " 'http://data.ordnancesurvey.co.uk/ontology/admingeo/District',\n",
       " 'http://data.ordnancesurvey.co.uk/ontology/admingeo/LondonBorough',\n",
       " 'http://data.ordnancesurvey.co.uk/ontology/admingeo/MetropolitanDistrict',\n",
       " 'http://data.ordnancesurvey.co.uk/ontology/admingeo/UnitaryAuthority',\n",
       " 'http://data.ordnancesurvey.co.uk/ontology/admingeo/Constituency',\n",
       " 'http://data.ordnancesurvey.co.uk/ontology/admingeo/WelshAssemblyElectoralRegion',\n",
       " 'http://data.ordnancesurvey.co.uk/ontology/admingeo/CivilVotingArea',\n",
       " 'http://data.ordnancesurvey.co.uk/ontology/admingeo/WelshAssemblyConstituency',\n",
       " 'http://data.ordnancesurvey.co.uk/ontology/admingeo/Constituency']"
      ]
     },
     "execution_count": 22,
     "metadata": {},
     "output_type": "execute_result"
    }
   ],
   "source": [
    "classes_names = classes_uri(classes)\n",
    "classes_names"
   ]
  },
  {
   "cell_type": "code",
   "execution_count": 23,
   "id": "96e8cc1d",
   "metadata": {},
   "outputs": [
    {
     "data": {
      "text/html": [
       "<div>\n",
       "<style scoped>\n",
       "    .dataframe tbody tr th:only-of-type {\n",
       "        vertical-align: middle;\n",
       "    }\n",
       "\n",
       "    .dataframe tbody tr th {\n",
       "        vertical-align: top;\n",
       "    }\n",
       "\n",
       "    .dataframe thead th {\n",
       "        text-align: right;\n",
       "    }\n",
       "</style>\n",
       "<table border=\"1\" class=\"dataframe\">\n",
       "  <thead>\n",
       "    <tr style=\"text-align: right;\">\n",
       "      <th></th>\n",
       "      <th>class</th>\n",
       "      <th>namespace</th>\n",
       "    </tr>\n",
       "  </thead>\n",
       "  <tbody>\n",
       "    <tr>\n",
       "      <th>0</th>\n",
       "      <td>http://data.ordnancesurvey.co.uk/ontology/admingeo/GreaterLondonAuthorityAssemblyConstituency</td>\n",
       "      <td>http://data.ordnancesurvey.co.uk/ontology/admingeo/</td>\n",
       "    </tr>\n",
       "    <tr>\n",
       "      <th>1</th>\n",
       "      <td>http://data.ordnancesurvey.co.uk/ontology/admingeo/ScottishParliamentConstituency</td>\n",
       "      <td>http://data.ordnancesurvey.co.uk/ontology/admingeo/</td>\n",
       "    </tr>\n",
       "    <tr>\n",
       "      <th>2</th>\n",
       "      <td>http://data.ordnancesurvey.co.uk/ontology/admingeo/WelshAssemblyConstituency</td>\n",
       "      <td>http://data.ordnancesurvey.co.uk/ontology/admingeo/</td>\n",
       "    </tr>\n",
       "    <tr>\n",
       "      <th>3</th>\n",
       "      <td>http://data.ordnancesurvey.co.uk/ontology/admingeo/GreaterLondonAuthority</td>\n",
       "      <td>http://data.ordnancesurvey.co.uk/ontology/admingeo/</td>\n",
       "    </tr>\n",
       "    <tr>\n",
       "      <th>4</th>\n",
       "      <td>http://data.ordnancesurvey.co.uk/ontology/admingeo/ScottishParliamentElectoralRegion</td>\n",
       "      <td>http://data.ordnancesurvey.co.uk/ontology/admingeo/</td>\n",
       "    </tr>\n",
       "    <tr>\n",
       "      <th>...</th>\n",
       "      <td>...</td>\n",
       "      <td>...</td>\n",
       "    </tr>\n",
       "    <tr>\n",
       "      <th>89</th>\n",
       "      <td>http://data.ordnancesurvey.co.uk/ontology/admingeo/Constituency</td>\n",
       "      <td>http://data.ordnancesurvey.co.uk/ontology/admingeo/</td>\n",
       "    </tr>\n",
       "    <tr>\n",
       "      <th>90</th>\n",
       "      <td>http://data.ordnancesurvey.co.uk/ontology/admingeo/WelshAssemblyElectoralRegion</td>\n",
       "      <td>http://data.ordnancesurvey.co.uk/ontology/admingeo/</td>\n",
       "    </tr>\n",
       "    <tr>\n",
       "      <th>91</th>\n",
       "      <td>http://data.ordnancesurvey.co.uk/ontology/admingeo/CivilVotingArea</td>\n",
       "      <td>http://data.ordnancesurvey.co.uk/ontology/admingeo/</td>\n",
       "    </tr>\n",
       "    <tr>\n",
       "      <th>92</th>\n",
       "      <td>http://data.ordnancesurvey.co.uk/ontology/admingeo/WelshAssemblyConstituency</td>\n",
       "      <td>http://data.ordnancesurvey.co.uk/ontology/admingeo/</td>\n",
       "    </tr>\n",
       "    <tr>\n",
       "      <th>93</th>\n",
       "      <td>http://data.ordnancesurvey.co.uk/ontology/admingeo/Constituency</td>\n",
       "      <td>http://data.ordnancesurvey.co.uk/ontology/admingeo/</td>\n",
       "    </tr>\n",
       "  </tbody>\n",
       "</table>\n",
       "<p>94 rows × 2 columns</p>\n",
       "</div>"
      ],
      "text/plain": [
       "                                                                                            class  \\\n",
       "0   http://data.ordnancesurvey.co.uk/ontology/admingeo/GreaterLondonAuthorityAssemblyConstituency   \n",
       "1               http://data.ordnancesurvey.co.uk/ontology/admingeo/ScottishParliamentConstituency   \n",
       "2                    http://data.ordnancesurvey.co.uk/ontology/admingeo/WelshAssemblyConstituency   \n",
       "3                       http://data.ordnancesurvey.co.uk/ontology/admingeo/GreaterLondonAuthority   \n",
       "4            http://data.ordnancesurvey.co.uk/ontology/admingeo/ScottishParliamentElectoralRegion   \n",
       "..                                                                                            ...   \n",
       "89                                http://data.ordnancesurvey.co.uk/ontology/admingeo/Constituency   \n",
       "90                http://data.ordnancesurvey.co.uk/ontology/admingeo/WelshAssemblyElectoralRegion   \n",
       "91                             http://data.ordnancesurvey.co.uk/ontology/admingeo/CivilVotingArea   \n",
       "92                   http://data.ordnancesurvey.co.uk/ontology/admingeo/WelshAssemblyConstituency   \n",
       "93                                http://data.ordnancesurvey.co.uk/ontology/admingeo/Constituency   \n",
       "\n",
       "                                              namespace  \n",
       "0   http://data.ordnancesurvey.co.uk/ontology/admingeo/  \n",
       "1   http://data.ordnancesurvey.co.uk/ontology/admingeo/  \n",
       "2   http://data.ordnancesurvey.co.uk/ontology/admingeo/  \n",
       "3   http://data.ordnancesurvey.co.uk/ontology/admingeo/  \n",
       "4   http://data.ordnancesurvey.co.uk/ontology/admingeo/  \n",
       "..                                                  ...  \n",
       "89  http://data.ordnancesurvey.co.uk/ontology/admingeo/  \n",
       "90  http://data.ordnancesurvey.co.uk/ontology/admingeo/  \n",
       "91  http://data.ordnancesurvey.co.uk/ontology/admingeo/  \n",
       "92  http://data.ordnancesurvey.co.uk/ontology/admingeo/  \n",
       "93  http://data.ordnancesurvey.co.uk/ontology/admingeo/  \n",
       "\n",
       "[94 rows x 2 columns]"
      ]
     },
     "execution_count": 23,
     "metadata": {},
     "output_type": "execute_result"
    }
   ],
   "source": [
    "#Create a panda's DataFrame from the list of classes.\n",
    "\n",
    "s = pd.Series(np.array(classes_names), name='class')\n",
    "df = s.to_frame()\n",
    "# create a column 'namespace' by applying the function get_namespace to the column 'class'. \n",
    "df['namespace'] = df['class'].apply(get_namespace)\n",
    "df"
   ]
  },
  {
   "cell_type": "code",
   "execution_count": 24,
   "id": "67d1b6e4",
   "metadata": {},
   "outputs": [
    {
     "data": {
      "text/html": [
       "<div>\n",
       "<style scoped>\n",
       "    .dataframe tbody tr th:only-of-type {\n",
       "        vertical-align: middle;\n",
       "    }\n",
       "\n",
       "    .dataframe tbody tr th {\n",
       "        vertical-align: top;\n",
       "    }\n",
       "\n",
       "    .dataframe thead th {\n",
       "        text-align: right;\n",
       "    }\n",
       "</style>\n",
       "<table border=\"1\" class=\"dataframe\">\n",
       "  <thead>\n",
       "    <tr style=\"text-align: right;\">\n",
       "      <th></th>\n",
       "      <th>class</th>\n",
       "      <th>namespace</th>\n",
       "    </tr>\n",
       "  </thead>\n",
       "  <tbody>\n",
       "    <tr>\n",
       "      <th>74</th>\n",
       "      <td>http://data.ordnancesurvey.co.uk/ontology/admingeo/Constituency</td>\n",
       "      <td>http://data.ordnancesurvey.co.uk/ontology/admingeo/</td>\n",
       "    </tr>\n",
       "    <tr>\n",
       "      <th>38</th>\n",
       "      <td>http://data.ordnancesurvey.co.uk/ontology/admingeo/District</td>\n",
       "      <td>http://data.ordnancesurvey.co.uk/ontology/admingeo/</td>\n",
       "    </tr>\n",
       "    <tr>\n",
       "      <th>28</th>\n",
       "      <td>http://data.ordnancesurvey.co.uk/ontology/admingeo/CivilParish</td>\n",
       "      <td>http://data.ordnancesurvey.co.uk/ontology/admingeo/</td>\n",
       "    </tr>\n",
       "    <tr>\n",
       "      <th>78</th>\n",
       "      <td>http://data.ordnancesurvey.co.uk/ontology/admingeo/CivilAdministrativeArea</td>\n",
       "      <td>http://data.ordnancesurvey.co.uk/ontology/admingeo/</td>\n",
       "    </tr>\n",
       "    <tr>\n",
       "      <th>68</th>\n",
       "      <td>http://data.ordnancesurvey.co.uk/ontology/admingeo/GreaterLondonAuthority</td>\n",
       "      <td>http://data.ordnancesurvey.co.uk/ontology/admingeo/</td>\n",
       "    </tr>\n",
       "    <tr>\n",
       "      <th>15</th>\n",
       "      <td>http://data.ordnancesurvey.co.uk/ontology/admingeo/LondonBorough</td>\n",
       "      <td>http://data.ordnancesurvey.co.uk/ontology/admingeo/</td>\n",
       "    </tr>\n",
       "    <tr>\n",
       "      <th>58</th>\n",
       "      <td>http://data.ordnancesurvey.co.uk/ontology/admingeo/WestminsterConstituency</td>\n",
       "      <td>http://data.ordnancesurvey.co.uk/ontology/admingeo/</td>\n",
       "    </tr>\n",
       "    <tr>\n",
       "      <th>0</th>\n",
       "      <td>http://data.ordnancesurvey.co.uk/ontology/admingeo/GreaterLondonAuthorityAssemblyConstituency</td>\n",
       "      <td>http://data.ordnancesurvey.co.uk/ontology/admingeo/</td>\n",
       "    </tr>\n",
       "    <tr>\n",
       "      <th>83</th>\n",
       "      <td>http://data.ordnancesurvey.co.uk/ontology/admingeo/UnitaryAuthority</td>\n",
       "      <td>http://data.ordnancesurvey.co.uk/ontology/admingeo/</td>\n",
       "    </tr>\n",
       "    <tr>\n",
       "      <th>62</th>\n",
       "      <td>http://data.ordnancesurvey.co.uk/ontology/admingeo/Constituency</td>\n",
       "      <td>http://data.ordnancesurvey.co.uk/ontology/admingeo/</td>\n",
       "    </tr>\n",
       "  </tbody>\n",
       "</table>\n",
       "</div>"
      ],
      "text/plain": [
       "                                                                                            class  \\\n",
       "74                                http://data.ordnancesurvey.co.uk/ontology/admingeo/Constituency   \n",
       "38                                    http://data.ordnancesurvey.co.uk/ontology/admingeo/District   \n",
       "28                                 http://data.ordnancesurvey.co.uk/ontology/admingeo/CivilParish   \n",
       "78                     http://data.ordnancesurvey.co.uk/ontology/admingeo/CivilAdministrativeArea   \n",
       "68                      http://data.ordnancesurvey.co.uk/ontology/admingeo/GreaterLondonAuthority   \n",
       "15                               http://data.ordnancesurvey.co.uk/ontology/admingeo/LondonBorough   \n",
       "58                     http://data.ordnancesurvey.co.uk/ontology/admingeo/WestminsterConstituency   \n",
       "0   http://data.ordnancesurvey.co.uk/ontology/admingeo/GreaterLondonAuthorityAssemblyConstituency   \n",
       "83                            http://data.ordnancesurvey.co.uk/ontology/admingeo/UnitaryAuthority   \n",
       "62                                http://data.ordnancesurvey.co.uk/ontology/admingeo/Constituency   \n",
       "\n",
       "                                              namespace  \n",
       "74  http://data.ordnancesurvey.co.uk/ontology/admingeo/  \n",
       "38  http://data.ordnancesurvey.co.uk/ontology/admingeo/  \n",
       "28  http://data.ordnancesurvey.co.uk/ontology/admingeo/  \n",
       "78  http://data.ordnancesurvey.co.uk/ontology/admingeo/  \n",
       "68  http://data.ordnancesurvey.co.uk/ontology/admingeo/  \n",
       "15  http://data.ordnancesurvey.co.uk/ontology/admingeo/  \n",
       "58  http://data.ordnancesurvey.co.uk/ontology/admingeo/  \n",
       "0   http://data.ordnancesurvey.co.uk/ontology/admingeo/  \n",
       "83  http://data.ordnancesurvey.co.uk/ontology/admingeo/  \n",
       "62  http://data.ordnancesurvey.co.uk/ontology/admingeo/  "
      ]
     },
     "execution_count": 24,
     "metadata": {},
     "output_type": "execute_result"
    }
   ],
   "source": [
    "df.sample(n=10)"
   ]
  },
  {
   "cell_type": "code",
   "execution_count": 25,
   "id": "fb7a442d",
   "metadata": {},
   "outputs": [
    {
     "data": {
      "text/html": [
       "<div>\n",
       "<style scoped>\n",
       "    .dataframe tbody tr th:only-of-type {\n",
       "        vertical-align: middle;\n",
       "    }\n",
       "\n",
       "    .dataframe tbody tr th {\n",
       "        vertical-align: top;\n",
       "    }\n",
       "\n",
       "    .dataframe thead th {\n",
       "        text-align: right;\n",
       "    }\n",
       "</style>\n",
       "<table border=\"1\" class=\"dataframe\">\n",
       "  <thead>\n",
       "    <tr style=\"text-align: right;\">\n",
       "      <th></th>\n",
       "      <th>class</th>\n",
       "    </tr>\n",
       "    <tr>\n",
       "      <th>namespace</th>\n",
       "      <th></th>\n",
       "    </tr>\n",
       "  </thead>\n",
       "  <tbody>\n",
       "    <tr>\n",
       "      <th>http://data.ordnancesurvey.co.uk/ontology/admingeo/</th>\n",
       "      <td>89</td>\n",
       "    </tr>\n",
       "    <tr>\n",
       "      <th>http://data.ordnancesurvey.co.uk/ontology/geometry/</th>\n",
       "      <td>3</td>\n",
       "    </tr>\n",
       "    <tr>\n",
       "      <th>http://www.w3.org/2002/07/owl#</th>\n",
       "      <td>2</td>\n",
       "    </tr>\n",
       "  </tbody>\n",
       "</table>\n",
       "</div>"
      ],
      "text/plain": [
       "                                                     class\n",
       "namespace                                                 \n",
       "http://data.ordnancesurvey.co.uk/ontology/admingeo/     89\n",
       "http://data.ordnancesurvey.co.uk/ontology/geometry/      3\n",
       "http://www.w3.org/2002/07/owl#                           2"
      ]
     },
     "execution_count": 25,
     "metadata": {},
     "output_type": "execute_result"
    }
   ],
   "source": [
    "df.groupby(['namespace']).count()"
   ]
  },
  {
   "cell_type": "code",
   "execution_count": 26,
   "id": "2e44d55e",
   "metadata": {},
   "outputs": [
    {
     "data": {
      "text/html": [
       "<div>\n",
       "<style scoped>\n",
       "    .dataframe tbody tr th:only-of-type {\n",
       "        vertical-align: middle;\n",
       "    }\n",
       "\n",
       "    .dataframe tbody tr th {\n",
       "        vertical-align: top;\n",
       "    }\n",
       "\n",
       "    .dataframe thead th {\n",
       "        text-align: right;\n",
       "    }\n",
       "</style>\n",
       "<table border=\"1\" class=\"dataframe\">\n",
       "  <thead>\n",
       "    <tr style=\"text-align: right;\">\n",
       "      <th></th>\n",
       "      <th>class</th>\n",
       "      <th>namespace</th>\n",
       "    </tr>\n",
       "  </thead>\n",
       "  <tbody>\n",
       "    <tr>\n",
       "      <th>33</th>\n",
       "      <td>http://data.ordnancesurvey.co.uk/ontology/geometry/AbstractGeometry</td>\n",
       "      <td>http://data.ordnancesurvey.co.uk/ontology/geometry/</td>\n",
       "    </tr>\n",
       "    <tr>\n",
       "      <th>42</th>\n",
       "      <td>http://data.ordnancesurvey.co.uk/ontology/geometry/AbstractGeometry</td>\n",
       "      <td>http://data.ordnancesurvey.co.uk/ontology/geometry/</td>\n",
       "    </tr>\n",
       "    <tr>\n",
       "      <th>57</th>\n",
       "      <td>http://data.ordnancesurvey.co.uk/ontology/geometry/AbstractGeometry</td>\n",
       "      <td>http://data.ordnancesurvey.co.uk/ontology/geometry/</td>\n",
       "    </tr>\n",
       "  </tbody>\n",
       "</table>\n",
       "</div>"
      ],
      "text/plain": [
       "                                                                  class  \\\n",
       "33  http://data.ordnancesurvey.co.uk/ontology/geometry/AbstractGeometry   \n",
       "42  http://data.ordnancesurvey.co.uk/ontology/geometry/AbstractGeometry   \n",
       "57  http://data.ordnancesurvey.co.uk/ontology/geometry/AbstractGeometry   \n",
       "\n",
       "                                              namespace  \n",
       "33  http://data.ordnancesurvey.co.uk/ontology/geometry/  \n",
       "42  http://data.ordnancesurvey.co.uk/ontology/geometry/  \n",
       "57  http://data.ordnancesurvey.co.uk/ontology/geometry/  "
      ]
     },
     "execution_count": 26,
     "metadata": {},
     "output_type": "execute_result"
    }
   ],
   "source": [
    "df[df['namespace'] == 'http://data.ordnancesurvey.co.uk/ontology/geometry/']"
   ]
  },
  {
   "cell_type": "code",
   "execution_count": 42,
   "id": "ec774540",
   "metadata": {},
   "outputs": [
    {
     "data": {
      "text/html": [
       "<div>\n",
       "<style scoped>\n",
       "    .dataframe tbody tr th:only-of-type {\n",
       "        vertical-align: middle;\n",
       "    }\n",
       "\n",
       "    .dataframe tbody tr th {\n",
       "        vertical-align: top;\n",
       "    }\n",
       "\n",
       "    .dataframe thead th {\n",
       "        text-align: right;\n",
       "    }\n",
       "</style>\n",
       "<table border=\"1\" class=\"dataframe\">\n",
       "  <thead>\n",
       "    <tr style=\"text-align: right;\">\n",
       "      <th></th>\n",
       "      <th>class</th>\n",
       "      <th>namespace</th>\n",
       "    </tr>\n",
       "  </thead>\n",
       "  <tbody>\n",
       "    <tr>\n",
       "      <th>32</th>\n",
       "      <td>http://www.w3.org/2002/07/owl#Thing</td>\n",
       "      <td>http://www.w3.org/2002/07/owl#</td>\n",
       "    </tr>\n",
       "    <tr>\n",
       "      <th>33</th>\n",
       "      <td>http://data.ordnancesurvey.co.uk/ontology/geometry/AbstractGeometry</td>\n",
       "      <td>http://data.ordnancesurvey.co.uk/ontology/geometry/</td>\n",
       "    </tr>\n",
       "    <tr>\n",
       "      <th>42</th>\n",
       "      <td>http://data.ordnancesurvey.co.uk/ontology/geometry/AbstractGeometry</td>\n",
       "      <td>http://data.ordnancesurvey.co.uk/ontology/geometry/</td>\n",
       "    </tr>\n",
       "    <tr>\n",
       "      <th>56</th>\n",
       "      <td>http://www.w3.org/2002/07/owl#Thing</td>\n",
       "      <td>http://www.w3.org/2002/07/owl#</td>\n",
       "    </tr>\n",
       "    <tr>\n",
       "      <th>57</th>\n",
       "      <td>http://data.ordnancesurvey.co.uk/ontology/geometry/AbstractGeometry</td>\n",
       "      <td>http://data.ordnancesurvey.co.uk/ontology/geometry/</td>\n",
       "    </tr>\n",
       "  </tbody>\n",
       "</table>\n",
       "</div>"
      ],
      "text/plain": [
       "                                                                  class  \\\n",
       "32                                  http://www.w3.org/2002/07/owl#Thing   \n",
       "33  http://data.ordnancesurvey.co.uk/ontology/geometry/AbstractGeometry   \n",
       "42  http://data.ordnancesurvey.co.uk/ontology/geometry/AbstractGeometry   \n",
       "56                                  http://www.w3.org/2002/07/owl#Thing   \n",
       "57  http://data.ordnancesurvey.co.uk/ontology/geometry/AbstractGeometry   \n",
       "\n",
       "                                              namespace  \n",
       "32                       http://www.w3.org/2002/07/owl#  \n",
       "33  http://data.ordnancesurvey.co.uk/ontology/geometry/  \n",
       "42  http://data.ordnancesurvey.co.uk/ontology/geometry/  \n",
       "56                       http://www.w3.org/2002/07/owl#  \n",
       "57  http://data.ordnancesurvey.co.uk/ontology/geometry/  "
      ]
     },
     "execution_count": 42,
     "metadata": {},
     "output_type": "execute_result"
    }
   ],
   "source": [
    "\n",
    "\n",
    "external_classes = df[df['namespace'] != base_ns]\n",
    "external_classes"
   ]
  },
  {
   "cell_type": "code",
   "execution_count": 28,
   "id": "ba9c0850",
   "metadata": {},
   "outputs": [
    {
     "data": {
      "text/html": [
       "<div>\n",
       "<style scoped>\n",
       "    .dataframe tbody tr th:only-of-type {\n",
       "        vertical-align: middle;\n",
       "    }\n",
       "\n",
       "    .dataframe tbody tr th {\n",
       "        vertical-align: top;\n",
       "    }\n",
       "\n",
       "    .dataframe thead th {\n",
       "        text-align: right;\n",
       "    }\n",
       "</style>\n",
       "<table border=\"1\" class=\"dataframe\">\n",
       "  <thead>\n",
       "    <tr style=\"text-align: right;\">\n",
       "      <th></th>\n",
       "      <th>namespace</th>\n",
       "    </tr>\n",
       "    <tr>\n",
       "      <th>class</th>\n",
       "      <th></th>\n",
       "    </tr>\n",
       "  </thead>\n",
       "  <tbody>\n",
       "    <tr>\n",
       "      <th>http://data.ordnancesurvey.co.uk/ontology/geometry/AbstractGeometry</th>\n",
       "      <td>3</td>\n",
       "    </tr>\n",
       "    <tr>\n",
       "      <th>http://www.w3.org/2002/07/owl#Thing</th>\n",
       "      <td>2</td>\n",
       "    </tr>\n",
       "  </tbody>\n",
       "</table>\n",
       "</div>"
      ],
      "text/plain": [
       "                                                                     namespace\n",
       "class                                                                         \n",
       "http://data.ordnancesurvey.co.uk/ontology/geometry/AbstractGeometry          3\n",
       "http://www.w3.org/2002/07/owl#Thing                                          2"
      ]
     },
     "execution_count": 28,
     "metadata": {},
     "output_type": "execute_result"
    }
   ],
   "source": [
    "external_classes.groupby(['class']).count()"
   ]
  },
  {
   "cell_type": "code",
   "execution_count": null,
   "id": "b59a38a4",
   "metadata": {},
   "outputs": [],
   "source": []
  }
 ],
 "metadata": {
  "kernelspec": {
   "display_name": "Python 3 (ipykernel)",
   "language": "python",
   "name": "python3"
  },
  "language_info": {
   "codemirror_mode": {
    "name": "ipython",
    "version": 3
   },
   "file_extension": ".py",
   "mimetype": "text/x-python",
   "name": "python",
   "nbconvert_exporter": "python",
   "pygments_lexer": "ipython3",
   "version": "3.9.7"
  }
 },
 "nbformat": 4,
 "nbformat_minor": 5
}
